{
 "cells": [
  {
   "cell_type": "code",
   "execution_count": 1,
   "metadata": {
    "id": "06CfGvQe8rTp"
   },
   "outputs": [
    {
     "name": "stdout",
     "output_type": "stream",
     "text": [
      "Requirement already satisfied: PyPortfolioOpt in /usr/local/Cellar/jupyterlab/3.3.0/libexec/lib/python3.9/site-packages (1.5.1)\n",
      "Requirement already satisfied: numpy<2.0,>=1.12 in /usr/local/lib/python3.9/site-packages (from PyPortfolioOpt) (1.22.3)\n",
      "Requirement already satisfied: pandas>=0.19 in /usr/local/Cellar/jupyterlab/3.3.0/libexec/lib/python3.9/site-packages (from PyPortfolioOpt) (1.4.1)\n",
      "Requirement already satisfied: cvxpy<2.0.0,>=1.1.10 in /usr/local/Cellar/jupyterlab/3.3.0/libexec/lib/python3.9/site-packages (from PyPortfolioOpt) (1.2.0)\n",
      "Requirement already satisfied: scipy<2.0,>=1.3 in /usr/local/Cellar/jupyterlab/3.3.0/libexec/lib/python3.9/site-packages (from PyPortfolioOpt) (1.8.0)\n",
      "Requirement already satisfied: scs>=1.1.6 in /usr/local/Cellar/jupyterlab/3.3.0/libexec/lib/python3.9/site-packages (from cvxpy<2.0.0,>=1.1.10->PyPortfolioOpt) (3.2.0)\n",
      "Requirement already satisfied: osqp>=0.4.1 in /usr/local/Cellar/jupyterlab/3.3.0/libexec/lib/python3.9/site-packages (from cvxpy<2.0.0,>=1.1.10->PyPortfolioOpt) (0.6.2.post5)\n",
      "Requirement already satisfied: ecos>=2 in /usr/local/Cellar/jupyterlab/3.3.0/libexec/lib/python3.9/site-packages (from cvxpy<2.0.0,>=1.1.10->PyPortfolioOpt) (2.0.10)\n",
      "Requirement already satisfied: pytz>=2020.1 in /usr/local/Cellar/jupyterlab/3.3.0/libexec/lib/python3.9/site-packages (from pandas>=0.19->PyPortfolioOpt) (2021.3)\n",
      "Requirement already satisfied: python-dateutil>=2.8.1 in /usr/local/Cellar/jupyterlab/3.3.0/libexec/lib/python3.9/site-packages (from pandas>=0.19->PyPortfolioOpt) (2.8.2)\n",
      "Requirement already satisfied: qdldl in /usr/local/Cellar/jupyterlab/3.3.0/libexec/lib/python3.9/site-packages (from osqp>=0.4.1->cvxpy<2.0.0,>=1.1.10->PyPortfolioOpt) (0.1.5.post0)\n",
      "Requirement already satisfied: six>=1.5 in /usr/local/Cellar/six/1.16.0_2/lib/python3.9/site-packages (from python-dateutil>=2.8.1->pandas>=0.19->PyPortfolioOpt) (1.16.0)\n",
      "\u001b[33mWARNING: You are using pip version 21.3.1; however, version 22.0.4 is available.\n",
      "You should consider upgrading via the '/usr/local/Cellar/jupyterlab/3.3.0/libexec/bin/python3.9 -m pip install --upgrade pip' command.\u001b[0m\n",
      "Note: you may need to restart the kernel to use updated packages.\n"
     ]
    }
   ],
   "source": [
    "pip install PyPortfolioOpt"
   ]
  },
  {
   "cell_type": "code",
   "execution_count": 2,
   "metadata": {
    "id": "pTyGEAap8tEz"
   },
   "outputs": [
    {
     "name": "stdout",
     "output_type": "stream",
     "text": [
      "Requirement already satisfied: yfinance in /usr/local/Cellar/jupyterlab/3.3.0/libexec/lib/python3.9/site-packages (0.1.70)\n",
      "Requirement already satisfied: pandas>=0.24.0 in /usr/local/Cellar/jupyterlab/3.3.0/libexec/lib/python3.9/site-packages (from yfinance) (1.4.1)\n",
      "Requirement already satisfied: multitasking>=0.0.7 in /usr/local/Cellar/jupyterlab/3.3.0/libexec/lib/python3.9/site-packages (from yfinance) (0.0.10)\n",
      "Requirement already satisfied: lxml>=4.5.1 in /usr/local/Cellar/jupyterlab/3.3.0/libexec/lib/python3.9/site-packages (from yfinance) (4.8.0)\n",
      "Requirement already satisfied: numpy>=1.15 in /usr/local/lib/python3.9/site-packages (from yfinance) (1.22.3)\n",
      "Requirement already satisfied: requests>=2.26 in /usr/local/Cellar/jupyterlab/3.3.0/libexec/lib/python3.9/site-packages (from yfinance) (2.27.1)\n",
      "Requirement already satisfied: python-dateutil>=2.8.1 in /usr/local/Cellar/jupyterlab/3.3.0/libexec/lib/python3.9/site-packages (from pandas>=0.24.0->yfinance) (2.8.2)\n",
      "Requirement already satisfied: pytz>=2020.1 in /usr/local/Cellar/jupyterlab/3.3.0/libexec/lib/python3.9/site-packages (from pandas>=0.24.0->yfinance) (2021.3)\n",
      "Requirement already satisfied: urllib3<1.27,>=1.21.1 in /usr/local/Cellar/jupyterlab/3.3.0/libexec/lib/python3.9/site-packages (from requests>=2.26->yfinance) (1.26.8)\n",
      "Requirement already satisfied: certifi>=2017.4.17 in /usr/local/Cellar/jupyterlab/3.3.0/libexec/lib/python3.9/site-packages (from requests>=2.26->yfinance) (2021.10.8)\n",
      "Requirement already satisfied: charset_normalizer~=2.0.0 in /usr/local/Cellar/jupyterlab/3.3.0/libexec/lib/python3.9/site-packages (from requests>=2.26->yfinance) (2.0.12)\n",
      "Requirement already satisfied: idna<4,>=2.5 in /usr/local/Cellar/jupyterlab/3.3.0/libexec/lib/python3.9/site-packages (from requests>=2.26->yfinance) (3.3)\n",
      "Requirement already satisfied: six>=1.5 in /usr/local/Cellar/six/1.16.0_2/lib/python3.9/site-packages (from python-dateutil>=2.8.1->pandas>=0.24.0->yfinance) (1.16.0)\n",
      "\u001b[33mWARNING: You are using pip version 21.3.1; however, version 22.0.4 is available.\n",
      "You should consider upgrading via the '/usr/local/Cellar/jupyterlab/3.3.0/libexec/bin/python3.9 -m pip install --upgrade pip' command.\u001b[0m\n",
      "Note: you may need to restart the kernel to use updated packages.\n"
     ]
    }
   ],
   "source": [
    "pip install yfinance"
   ]
  },
  {
   "cell_type": "code",
   "execution_count": 3,
   "metadata": {
    "id": "MIZdovsh8u7X"
   },
   "outputs": [
    {
     "name": "stdout",
     "output_type": "stream",
     "text": [
      "Requirement already satisfied: pulp in /usr/local/Cellar/jupyterlab/3.3.0/libexec/lib/python3.9/site-packages (2.6.0)\n",
      "\u001b[33mWARNING: You are using pip version 21.3.1; however, version 22.0.4 is available.\n",
      "You should consider upgrading via the '/usr/local/Cellar/jupyterlab/3.3.0/libexec/bin/python3.9 -m pip install --upgrade pip' command.\u001b[0m\n",
      "Note: you may need to restart the kernel to use updated packages.\n"
     ]
    }
   ],
   "source": [
    "pip install pulp"
   ]
  },
  {
   "cell_type": "code",
   "execution_count": 4,
   "metadata": {
    "id": "3slTC5ml8xQB"
   },
   "outputs": [
    {
     "name": "stdout",
     "output_type": "stream",
     "text": [
      "Requirement already satisfied: quandl in /usr/local/Cellar/jupyterlab/3.3.0/libexec/lib/python3.9/site-packages (3.7.0)\n",
      "Requirement already satisfied: python-dateutil in /usr/local/Cellar/jupyterlab/3.3.0/libexec/lib/python3.9/site-packages (from quandl) (2.8.2)\n",
      "Requirement already satisfied: six in /usr/local/Cellar/six/1.16.0_2/lib/python3.9/site-packages (from quandl) (1.16.0)\n",
      "Requirement already satisfied: more-itertools in /usr/local/Cellar/jupyterlab/3.3.0/libexec/lib/python3.9/site-packages (from quandl) (8.12.0)\n",
      "Requirement already satisfied: numpy>=1.8 in /usr/local/lib/python3.9/site-packages (from quandl) (1.22.3)\n",
      "Requirement already satisfied: inflection>=0.3.1 in /usr/local/Cellar/jupyterlab/3.3.0/libexec/lib/python3.9/site-packages (from quandl) (0.5.1)\n",
      "Requirement already satisfied: pandas>=0.14 in /usr/local/Cellar/jupyterlab/3.3.0/libexec/lib/python3.9/site-packages (from quandl) (1.4.1)\n",
      "Requirement already satisfied: requests>=2.7.0 in /usr/local/Cellar/jupyterlab/3.3.0/libexec/lib/python3.9/site-packages (from quandl) (2.27.1)\n",
      "Requirement already satisfied: pytz>=2020.1 in /usr/local/Cellar/jupyterlab/3.3.0/libexec/lib/python3.9/site-packages (from pandas>=0.14->quandl) (2021.3)\n",
      "Requirement already satisfied: urllib3<1.27,>=1.21.1 in /usr/local/Cellar/jupyterlab/3.3.0/libexec/lib/python3.9/site-packages (from requests>=2.7.0->quandl) (1.26.8)\n",
      "Requirement already satisfied: certifi>=2017.4.17 in /usr/local/Cellar/jupyterlab/3.3.0/libexec/lib/python3.9/site-packages (from requests>=2.7.0->quandl) (2021.10.8)\n",
      "Requirement already satisfied: charset_normalizer~=2.0.0 in /usr/local/Cellar/jupyterlab/3.3.0/libexec/lib/python3.9/site-packages (from requests>=2.7.0->quandl) (2.0.12)\n",
      "Requirement already satisfied: idna<4,>=2.5 in /usr/local/Cellar/jupyterlab/3.3.0/libexec/lib/python3.9/site-packages (from requests>=2.7.0->quandl) (3.3)\n",
      "\u001b[33mWARNING: You are using pip version 21.3.1; however, version 22.0.4 is available.\n",
      "You should consider upgrading via the '/usr/local/Cellar/jupyterlab/3.3.0/libexec/bin/python3.9 -m pip install --upgrade pip' command.\u001b[0m\n",
      "Note: you may need to restart the kernel to use updated packages.\n"
     ]
    }
   ],
   "source": [
    "pip install quandl"
   ]
  },
  {
   "cell_type": "code",
   "execution_count": 5,
   "metadata": {
    "colab": {
     "base_uri": "https://localhost:8080/",
     "height": 238
    },
    "executionInfo": {
     "elapsed": 53,
     "status": "ok",
     "timestamp": 1633585901469,
     "user": {
      "displayName": "Tanishq Chauhan",
      "photoUrl": "https://lh3.googleusercontent.com/a-/AOh14GggkDwz2kbsiN3be9s1OYgcBFC5-sc3hTfGRlNnyg=s64",
      "userId": "17101909825884887186"
     },
     "user_tz": -330
    },
    "id": "W7_ne6HBSz2j",
    "outputId": "e65c531b-d411-46ae-eb21-739e44f55e44"
   },
   "outputs": [
    {
     "data": {
      "text/html": [
       "<div>\n",
       "<style scoped>\n",
       "    .dataframe tbody tr th:only-of-type {\n",
       "        vertical-align: middle;\n",
       "    }\n",
       "\n",
       "    .dataframe tbody tr th {\n",
       "        vertical-align: top;\n",
       "    }\n",
       "\n",
       "    .dataframe thead th {\n",
       "        text-align: right;\n",
       "    }\n",
       "</style>\n",
       "<table border=\"1\" class=\"dataframe\">\n",
       "  <thead>\n",
       "    <tr style=\"text-align: right;\">\n",
       "      <th></th>\n",
       "      <th>DAI-USD</th>\n",
       "      <th>BUSD-USD</th>\n",
       "      <th>TUSD-USD</th>\n",
       "      <th>USDC-USD</th>\n",
       "      <th>USDT-USD</th>\n",
       "    </tr>\n",
       "    <tr>\n",
       "      <th>Date</th>\n",
       "      <th></th>\n",
       "      <th></th>\n",
       "      <th></th>\n",
       "      <th></th>\n",
       "      <th></th>\n",
       "    </tr>\n",
       "  </thead>\n",
       "  <tbody>\n",
       "    <tr>\n",
       "      <th>2019-11-22</th>\n",
       "      <td>NaN</td>\n",
       "      <td>NaN</td>\n",
       "      <td>NaN</td>\n",
       "      <td>NaN</td>\n",
       "      <td>NaN</td>\n",
       "    </tr>\n",
       "    <tr>\n",
       "      <th>2019-11-23</th>\n",
       "      <td>0.023861</td>\n",
       "      <td>0.009837</td>\n",
       "      <td>0.009095</td>\n",
       "      <td>0.010484</td>\n",
       "      <td>0.010054</td>\n",
       "    </tr>\n",
       "    <tr>\n",
       "      <th>2019-11-24</th>\n",
       "      <td>-0.013788</td>\n",
       "      <td>0.007578</td>\n",
       "      <td>0.006457</td>\n",
       "      <td>-0.002832</td>\n",
       "      <td>0.004332</td>\n",
       "    </tr>\n",
       "    <tr>\n",
       "      <th>2019-11-25</th>\n",
       "      <td>0.004740</td>\n",
       "      <td>-0.016237</td>\n",
       "      <td>-0.013968</td>\n",
       "      <td>-0.008411</td>\n",
       "      <td>-0.014157</td>\n",
       "    </tr>\n",
       "    <tr>\n",
       "      <th>2019-11-26</th>\n",
       "      <td>-0.000919</td>\n",
       "      <td>0.006695</td>\n",
       "      <td>0.005833</td>\n",
       "      <td>0.007539</td>\n",
       "      <td>0.006638</td>\n",
       "    </tr>\n",
       "  </tbody>\n",
       "</table>\n",
       "</div>"
      ],
      "text/plain": [
       "             DAI-USD  BUSD-USD  TUSD-USD  USDC-USD  USDT-USD\n",
       "Date                                                        \n",
       "2019-11-22       NaN       NaN       NaN       NaN       NaN\n",
       "2019-11-23  0.023861  0.009837  0.009095  0.010484  0.010054\n",
       "2019-11-24 -0.013788  0.007578  0.006457 -0.002832  0.004332\n",
       "2019-11-25  0.004740 -0.016237 -0.013968 -0.008411 -0.014157\n",
       "2019-11-26 -0.000919  0.006695  0.005833  0.007539  0.006638"
      ]
     },
     "execution_count": 5,
     "metadata": {},
     "output_type": "execute_result"
    }
   ],
   "source": [
    "#equal risk contribution / risk parity\n",
    "import numpy as np\n",
    "import pandas as pd\n",
    "import matplotlib.pyplot as plt\n",
    "%matplotlib inline\n",
    "\n",
    "df= pd.read_csv(\"input_data.csv\")\n",
    "df.Date = pd.to_datetime(df.Date, dayfirst = True)\n",
    "df.set_index(\"Date\", inplace = True)\n",
    "rets=df.pct_change()\n",
    "#rets = df[1:]\n",
    "rets.head()"
   ]
  },
  {
   "cell_type": "code",
   "execution_count": 6,
   "metadata": {
    "id": "ba5kYWx3TEtO"
   },
   "outputs": [],
   "source": [
    "cov = rets.cov()\n",
    "\n",
    "# Equal-weights function\n",
    "def equal_weights(rets):\n",
    "    n = len(rets.columns)\n",
    "    weights = pd.Series(1/n, index = rets.columns)\n",
    "    return weights\n",
    "\n",
    "# Portfolio Volatility\n",
    "def pf_vol(weights, cov):\n",
    "    return (weights.T @ cov @ weights)**0.5\n",
    "\n",
    "# Risk-contributions for each asset towards the overall portfolio volatility\n",
    "def risk_cont(weights, cov):\n",
    "    pf_volatility = pf_vol(weights, cov) ** 2\n",
    "    risk = cov@weights\n",
    "    risk_contribution = np.multiply(risk, weights.T)/pf_volatility\n",
    "    return risk_contribution"
   ]
  },
  {
   "cell_type": "code",
   "execution_count": 7,
   "metadata": {
    "colab": {
     "base_uri": "https://localhost:8080/",
     "height": 373
    },
    "executionInfo": {
     "elapsed": 53,
     "status": "ok",
     "timestamp": 1633585901470,
     "user": {
      "displayName": "Tanishq Chauhan",
      "photoUrl": "https://lh3.googleusercontent.com/a-/AOh14GggkDwz2kbsiN3be9s1OYgcBFC5-sc3hTfGRlNnyg=s64",
      "userId": "17101909825884887186"
     },
     "user_tz": -330
    },
    "id": "w1ELGWqUTHgN",
    "outputId": "5e2cf5d7-43f8-4f60-957c-6d74801c7bec"
   },
   "outputs": [
    {
     "data": {
      "text/plain": [
       "<AxesSubplot:title={'center':'Risk allocation of an equally-weight dollar portfolio'}>"
      ]
     },
     "execution_count": 7,
     "metadata": {},
     "output_type": "execute_result"
    },
    {
     "data": {
      "image/png": "[encoded data removed]",
      "text/plain": [
       "<Figure size 432x288 with 1 Axes>"
      ]
     },
     "metadata": {
      "needs_background": "light"
     },
     "output_type": "display_data"
    }
   ],
   "source": [
    "# Risk-contributions for an equally-weighted portfolio\n",
    "risk_cont(equal_weights(rets), cov).plot.bar(title = \"Risk allocation of an equally-weight dollar portfolio\")"
   ]
  },
  {
   "cell_type": "code",
   "execution_count": 8,
   "metadata": {
    "id": "l0e2ImykTJDD"
   },
   "outputs": [],
   "source": [
    "from scipy.optimize import minimize\n",
    "\n",
    "# Find optimal dollar weights such that the risk-contributions meet a target contribution level, in this case being 1/n = 0.2 for each asset\n",
    "\n",
    "def t_risk_cont(t_risk, cov):\n",
    "    n = cov.shape[0]\n",
    "    initial_guess = np.repeat(1/n, n)\n",
    "    bounds = ((0, 1),) * n\n",
    "    weights_constraint = {'type': 'eq',\n",
    "                         'fun': lambda weights: np.sum(weights) - 1}\n",
    "    def msd(weights, t_risk, cov):\n",
    "        contributions = risk_cont(weights, cov)\n",
    "        return ((contributions - t_risk)**2).sum()\n",
    "    \n",
    "    weights = minimize(msd, initial_guess,\n",
    "                       args=(t_risk, cov), method='SLSQP',\n",
    "                       options={'disp': False},\n",
    "                       constraints=(weights_constraint,),\n",
    "                       bounds=bounds)\n",
    "    return weights.x\n",
    "\n",
    "def equal_risk_cont(cov):\n",
    "    n = cov.shape[0]\n",
    "    return t_risk_cont(np.repeat(1/n, n), cov)"
   ]
  },
  {
   "cell_type": "code",
   "execution_count": 9,
   "metadata": {
    "colab": {
     "base_uri": "https://localhost:8080/",
     "height": 373
    },
    "executionInfo": {
     "elapsed": 47,
     "status": "ok",
     "timestamp": 1633585901470,
     "user": {
      "displayName": "Tanishq Chauhan",
      "photoUrl": "https://lh3.googleusercontent.com/a-/AOh14GggkDwz2kbsiN3be9s1OYgcBFC5-sc3hTfGRlNnyg=s64",
      "userId": "17101909825884887186"
     },
     "user_tz": -330
    },
    "id": "pY46pYIATLf7",
    "outputId": "f358850b-f01f-4f9f-ce8b-1a6b2011dbe6"
   },
   "outputs": [
    {
     "data": {
      "text/plain": [
       "<AxesSubplot:title={'center':'Risk Contributions of a Risk Parity portfolio'}>"
      ]
     },
     "execution_count": 9,
     "metadata": {},
     "output_type": "execute_result"
    },
    {
     "data": {
      "image/png": "[encoded data removed]",
      "text/plain": [
       "<Figure size 432x288 with 1 Axes>"
      ]
     },
     "metadata": {
      "needs_background": "light"
     },
     "output_type": "display_data"
    }
   ],
   "source": [
    "# Risk-parity allocation levels for risk. We see that they are equal i.e 0.2\n",
    "\n",
    "risk_cont(equal_risk_cont(cov), cov).plot.bar(title=\"Risk Contributions of a Risk Parity portfolio\")"
   ]
  },
  {
   "cell_type": "code",
   "execution_count": 10,
   "metadata": {
    "colab": {
     "base_uri": "https://localhost:8080/",
     "height": 206
    },
    "executionInfo": {
     "elapsed": 44,
     "status": "ok",
     "timestamp": 1633585901471,
     "user": {
      "displayName": "Tanishq Chauhan",
      "photoUrl": "https://lh3.googleusercontent.com/a-/AOh14GggkDwz2kbsiN3be9s1OYgcBFC5-sc3hTfGRlNnyg=s64",
      "userId": "17101909825884887186"
     },
     "user_tz": -330
    },
    "id": "saxDTPPATNY6",
    "outputId": "427d9284-58e0-4655-e38d-27fdd945adac"
   },
   "outputs": [
    {
     "data": {
      "text/html": [
       "<div>\n",
       "<style scoped>\n",
       "    .dataframe tbody tr th:only-of-type {\n",
       "        vertical-align: middle;\n",
       "    }\n",
       "\n",
       "    .dataframe tbody tr th {\n",
       "        vertical-align: top;\n",
       "    }\n",
       "\n",
       "    .dataframe thead th {\n",
       "        text-align: right;\n",
       "    }\n",
       "</style>\n",
       "<table border=\"1\" class=\"dataframe\">\n",
       "  <thead>\n",
       "    <tr style=\"text-align: right;\">\n",
       "      <th></th>\n",
       "      <th>Weight</th>\n",
       "    </tr>\n",
       "  </thead>\n",
       "  <tbody>\n",
       "    <tr>\n",
       "      <th>DAI-USD</th>\n",
       "      <td>17.199826</td>\n",
       "    </tr>\n",
       "    <tr>\n",
       "      <th>BUSD-USD</th>\n",
       "      <td>20.664406</td>\n",
       "    </tr>\n",
       "    <tr>\n",
       "      <th>TUSD-USD</th>\n",
       "      <td>21.716573</td>\n",
       "    </tr>\n",
       "    <tr>\n",
       "      <th>USDC-USD</th>\n",
       "      <td>20.057629</td>\n",
       "    </tr>\n",
       "    <tr>\n",
       "      <th>USDT-USD</th>\n",
       "      <td>20.361566</td>\n",
       "    </tr>\n",
       "  </tbody>\n",
       "</table>\n",
       "</div>"
      ],
      "text/plain": [
       "             Weight\n",
       "DAI-USD   17.199826\n",
       "BUSD-USD  20.664406\n",
       "TUSD-USD  21.716573\n",
       "USDC-USD  20.057629\n",
       "USDT-USD  20.361566"
      ]
     },
     "execution_count": 10,
     "metadata": {},
     "output_type": "execute_result"
    }
   ],
   "source": [
    "# Find optimal weights to put in each industry based on the above risk-allocation levels above of 0.2\n",
    "\n",
    "def sample_covariance(rets):\n",
    "    return rets.cov()\n",
    "\n",
    "def weight_rp(rets):\n",
    "    est_cov = sample_covariance(rets)\n",
    "    return equal_risk_cont(est_cov)\n",
    "\n",
    "pd.DataFrame(weight_rp(rets) * 100, index = rets.columns, columns = [\"Weight\"])"
   ]
  }
 ],
 "metadata": {
  "colab": {
   "authorship_tag": "ABX9TyPMH1qXwxFsd/SRPyG4a4lq",
   "collapsed_sections": [],
   "name": "Equal_Risk_Contribution_aka_Risk_Parity.ipynb",
   "provenance": []
  },
  "kernelspec": {
   "display_name": "Python 3 (ipykernel)",
   "language": "python",
   "name": "python3"
  },
  "language_info": {
   "codemirror_mode": {
    "name": "ipython",
    "version": 3
   },
   "file_extension": ".py",
   "mimetype": "text/x-python",
   "name": "python",
   "nbconvert_exporter": "python",
   "pygments_lexer": "ipython3",
   "version": "3.9.10"
  }
 },
 "nbformat": 4,
 "nbformat_minor": 1
}
