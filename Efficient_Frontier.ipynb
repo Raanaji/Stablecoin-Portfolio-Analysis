{
 "cells": [
  {
   "cell_type": "code",
   "execution_count": null,
   "metadata": {
    "colab": {
     "base_uri": "https://localhost:8080/"
    },
    "executionInfo": {
     "elapsed": 3386,
     "status": "ok",
     "timestamp": 1633585890714,
     "user": {
      "displayName": "Tanishq Chauhan",
      "photoUrl": "https://lh3.googleusercontent.com/a-/AOh14GggkDwz2kbsiN3be9s1OYgcBFC5-sc3hTfGRlNnyg=s64",
      "userId": "17101909825884887186"
     },
     "user_tz": -330
    },
    "id": "3m3gexlBPD8p",
    "outputId": "bc07dfda-d097-4c9b-e1a7-b1cd2e4db886"
   },
   "outputs": [
    {
     "name": "stdout",
     "output_type": "stream",
     "text": [
      "Requirement already satisfied: PyPortfolioOpt in /usr/local/lib/python3.7/dist-packages (1.4.2)\n",
      "Requirement already satisfied: scipy<2.0,>=1.3 in /usr/local/lib/python3.7/dist-packages (from PyPortfolioOpt) (1.4.1)\n",
      "Requirement already satisfied: numpy<2.0,>=1.12 in /usr/local/lib/python3.7/dist-packages (from PyPortfolioOpt) (1.19.5)\n",
      "Requirement already satisfied: cvxpy<2.0.0,>=1.1.10 in /usr/local/lib/python3.7/dist-packages (from PyPortfolioOpt) (1.1.15)\n",
      "Requirement already satisfied: pandas>=0.19 in /usr/local/lib/python3.7/dist-packages (from PyPortfolioOpt) (1.1.5)\n",
      "Requirement already satisfied: osqp>=0.4.1 in /usr/local/lib/python3.7/dist-packages (from cvxpy<2.0.0,>=1.1.10->PyPortfolioOpt) (0.6.2.post0)\n",
      "Requirement already satisfied: ecos>=2 in /usr/local/lib/python3.7/dist-packages (from cvxpy<2.0.0,>=1.1.10->PyPortfolioOpt) (2.0.7.post1)\n",
      "Requirement already satisfied: scs>=1.1.6 in /usr/local/lib/python3.7/dist-packages (from cvxpy<2.0.0,>=1.1.10->PyPortfolioOpt) (2.1.4)\n",
      "Requirement already satisfied: qdldl in /usr/local/lib/python3.7/dist-packages (from osqp>=0.4.1->cvxpy<2.0.0,>=1.1.10->PyPortfolioOpt) (0.1.5.post0)\n",
      "Requirement already satisfied: pytz>=2017.2 in /usr/local/lib/python3.7/dist-packages (from pandas>=0.19->PyPortfolioOpt) (2018.9)\n",
      "Requirement already satisfied: python-dateutil>=2.7.3 in /usr/local/lib/python3.7/dist-packages (from pandas>=0.19->PyPortfolioOpt) (2.8.2)\n",
      "Requirement already satisfied: six>=1.5 in /usr/local/lib/python3.7/dist-packages (from python-dateutil>=2.7.3->pandas>=0.19->PyPortfolioOpt) (1.15.0)\n"
     ]
    }
   ],
   "source": [
    "pip install PyPortfolioOpt"
   ]
  },
  {
   "cell_type": "code",
   "execution_count": null,
   "metadata": {
    "colab": {
     "base_uri": "https://localhost:8080/"
    },
    "executionInfo": {
     "elapsed": 2978,
     "status": "ok",
     "timestamp": 1633585893684,
     "user": {
      "displayName": "Tanishq Chauhan",
      "photoUrl": "https://lh3.googleusercontent.com/a-/AOh14GggkDwz2kbsiN3be9s1OYgcBFC5-sc3hTfGRlNnyg=s64",
      "userId": "17101909825884887186"
     },
     "user_tz": -330
    },
    "id": "me9u6pyxPgA_",
    "outputId": "974a982f-6029-4acf-92ca-fe52025b75ca"
   },
   "outputs": [
    {
     "name": "stdout",
     "output_type": "stream",
     "text": [
      "Requirement already satisfied: yfinance in /usr/local/lib/python3.7/dist-packages (0.1.63)\n",
      "Requirement already satisfied: requests>=2.20 in /usr/local/lib/python3.7/dist-packages (from yfinance) (2.23.0)\n",
      "Requirement already satisfied: numpy>=1.15 in /usr/local/lib/python3.7/dist-packages (from yfinance) (1.19.5)\n",
      "Requirement already satisfied: pandas>=0.24 in /usr/local/lib/python3.7/dist-packages (from yfinance) (1.1.5)\n",
      "Requirement already satisfied: lxml>=4.5.1 in /usr/local/lib/python3.7/dist-packages (from yfinance) (4.6.3)\n",
      "Requirement already satisfied: multitasking>=0.0.7 in /usr/local/lib/python3.7/dist-packages (from yfinance) (0.0.9)\n",
      "Requirement already satisfied: python-dateutil>=2.7.3 in /usr/local/lib/python3.7/dist-packages (from pandas>=0.24->yfinance) (2.8.2)\n",
      "Requirement already satisfied: pytz>=2017.2 in /usr/local/lib/python3.7/dist-packages (from pandas>=0.24->yfinance) (2018.9)\n",
      "Requirement already satisfied: six>=1.5 in /usr/local/lib/python3.7/dist-packages (from python-dateutil>=2.7.3->pandas>=0.24->yfinance) (1.15.0)\n",
      "Requirement already satisfied: urllib3!=1.25.0,!=1.25.1,<1.26,>=1.21.1 in /usr/local/lib/python3.7/dist-packages (from requests>=2.20->yfinance) (1.24.3)\n",
      "Requirement already satisfied: idna<3,>=2.5 in /usr/local/lib/python3.7/dist-packages (from requests>=2.20->yfinance) (2.10)\n",
      "Requirement already satisfied: certifi>=2017.4.17 in /usr/local/lib/python3.7/dist-packages (from requests>=2.20->yfinance) (2021.5.30)\n",
      "Requirement already satisfied: chardet<4,>=3.0.2 in /usr/local/lib/python3.7/dist-packages (from requests>=2.20->yfinance) (3.0.4)\n"
     ]
    }
   ],
   "source": [
    "pip install yfinance"
   ]
  },
  {
   "cell_type": "code",
   "execution_count": null,
   "metadata": {
    "colab": {
     "base_uri": "https://localhost:8080/"
    },
    "executionInfo": {
     "elapsed": 2788,
     "status": "ok",
     "timestamp": 1633585896465,
     "user": {
      "displayName": "Tanishq Chauhan",
      "photoUrl": "https://lh3.googleusercontent.com/a-/AOh14GggkDwz2kbsiN3be9s1OYgcBFC5-sc3hTfGRlNnyg=s64",
      "userId": "17101909825884887186"
     },
     "user_tz": -330
    },
    "id": "BRankMSeP9lW",
    "outputId": "5ee04cf0-4856-45a6-9eed-f0ab53e997ad"
   },
   "outputs": [
    {
     "name": "stdout",
     "output_type": "stream",
     "text": [
      "Requirement already satisfied: pulp in /usr/local/lib/python3.7/dist-packages (2.5.1)\n"
     ]
    }
   ],
   "source": [
    "pip install pulp"
   ]
  },
  {
   "cell_type": "code",
   "execution_count": null,
   "metadata": {
    "colab": {
     "base_uri": "https://localhost:8080/"
    },
    "executionInfo": {
     "elapsed": 3562,
     "status": "ok",
     "timestamp": 1633585900019,
     "user": {
      "displayName": "Tanishq Chauhan",
      "photoUrl": "https://lh3.googleusercontent.com/a-/AOh14GggkDwz2kbsiN3be9s1OYgcBFC5-sc3hTfGRlNnyg=s64",
      "userId": "17101909825884887186"
     },
     "user_tz": -330
    },
    "id": "kw60Z6zCQJf9",
    "outputId": "c273aa51-bb97-450b-a629-4afc31d5979e"
   },
   "outputs": [
    {
     "name": "stdout",
     "output_type": "stream",
     "text": [
      "Requirement already satisfied: quandl in /usr/local/lib/python3.7/dist-packages (3.6.1)\n",
      "Requirement already satisfied: python-dateutil in /usr/local/lib/python3.7/dist-packages (from quandl) (2.8.2)\n",
      "Requirement already satisfied: inflection>=0.3.1 in /usr/local/lib/python3.7/dist-packages (from quandl) (0.5.1)\n",
      "Requirement already satisfied: requests>=2.7.0 in /usr/local/lib/python3.7/dist-packages (from quandl) (2.23.0)\n",
      "Requirement already satisfied: numpy>=1.8 in /usr/local/lib/python3.7/dist-packages (from quandl) (1.19.5)\n",
      "Requirement already satisfied: more-itertools in /usr/local/lib/python3.7/dist-packages (from quandl) (8.10.0)\n",
      "Requirement already satisfied: six in /usr/local/lib/python3.7/dist-packages (from quandl) (1.15.0)\n",
      "Requirement already satisfied: pandas>=0.14 in /usr/local/lib/python3.7/dist-packages (from quandl) (1.1.5)\n",
      "Requirement already satisfied: pytz>=2017.2 in /usr/local/lib/python3.7/dist-packages (from pandas>=0.14->quandl) (2018.9)\n",
      "Requirement already satisfied: idna<3,>=2.5 in /usr/local/lib/python3.7/dist-packages (from requests>=2.7.0->quandl) (2.10)\n",
      "Requirement already satisfied: urllib3!=1.25.0,!=1.25.1,<1.26,>=1.21.1 in /usr/local/lib/python3.7/dist-packages (from requests>=2.7.0->quandl) (1.24.3)\n",
      "Requirement already satisfied: certifi>=2017.4.17 in /usr/local/lib/python3.7/dist-packages (from requests>=2.7.0->quandl) (2021.5.30)\n",
      "Requirement already satisfied: chardet<4,>=3.0.2 in /usr/local/lib/python3.7/dist-packages (from requests>=2.7.0->quandl) (3.0.4)\n"
     ]
    }
   ],
   "source": [
    "pip install quandl"
   ]
  },
  {
   "cell_type": "code",
   "execution_count": 1,
   "metadata": {
    "id": "9mqKw4d5Pbvt"
   },
   "outputs": [],
   "source": [
    "import pandas as pd\n",
    "import numpy as np\n",
    "import requests\n",
    "import re\n",
    "import quandl\n",
    "%matplotlib inline\n",
    "import matplotlib.pyplot as plt"
   ]
  },
  {
   "cell_type": "code",
   "execution_count": 3,
   "metadata": {
    "colab": {
     "base_uri": "https://localhost:8080/",
     "height": 238
    },
    "executionInfo": {
     "elapsed": 13,
     "status": "ok",
     "timestamp": 1633594672028,
     "user": {
      "displayName": "Tanishq Chauhan",
      "photoUrl": "https://lh3.googleusercontent.com/a-/AOh14GggkDwz2kbsiN3be9s1OYgcBFC5-sc3hTfGRlNnyg=s64",
      "userId": "17101909825884887186"
     },
     "user_tz": -330
    },
    "id": "83inOj5iPkkM",
    "outputId": "c5999336-42fd-4615-df11-6c1bde157b1a"
   },
   "outputs": [
    {
     "data": {
      "text/html": [
       "<div>\n",
       "<style scoped>\n",
       "    .dataframe tbody tr th:only-of-type {\n",
       "        vertical-align: middle;\n",
       "    }\n",
       "\n",
       "    .dataframe tbody tr th {\n",
       "        vertical-align: top;\n",
       "    }\n",
       "\n",
       "    .dataframe thead th {\n",
       "        text-align: right;\n",
       "    }\n",
       "</style>\n",
       "<table border=\"1\" class=\"dataframe\">\n",
       "  <thead>\n",
       "    <tr style=\"text-align: right;\">\n",
       "      <th></th>\n",
       "      <th>DAI-USD</th>\n",
       "      <th>BUSD-USD</th>\n",
       "      <th>TUSD-USD</th>\n",
       "      <th>USDC-USD</th>\n",
       "      <th>USDT-USD</th>\n",
       "    </tr>\n",
       "    <tr>\n",
       "      <th>Date</th>\n",
       "      <th></th>\n",
       "      <th></th>\n",
       "      <th></th>\n",
       "      <th></th>\n",
       "      <th></th>\n",
       "    </tr>\n",
       "  </thead>\n",
       "  <tbody>\n",
       "    <tr>\n",
       "      <th>2019-11-22</th>\n",
       "      <td>0.992598</td>\n",
       "      <td>1.001011</td>\n",
       "      <td>1.002206</td>\n",
       "      <td>1.001247</td>\n",
       "      <td>1.003045</td>\n",
       "    </tr>\n",
       "    <tr>\n",
       "      <th>2019-11-23</th>\n",
       "      <td>1.016282</td>\n",
       "      <td>1.010858</td>\n",
       "      <td>1.011321</td>\n",
       "      <td>1.011744</td>\n",
       "      <td>1.013130</td>\n",
       "    </tr>\n",
       "    <tr>\n",
       "      <th>2019-11-24</th>\n",
       "      <td>1.002270</td>\n",
       "      <td>1.018518</td>\n",
       "      <td>1.017851</td>\n",
       "      <td>1.008879</td>\n",
       "      <td>1.017519</td>\n",
       "    </tr>\n",
       "    <tr>\n",
       "      <th>2019-11-25</th>\n",
       "      <td>1.007021</td>\n",
       "      <td>1.001980</td>\n",
       "      <td>1.003634</td>\n",
       "      <td>1.000393</td>\n",
       "      <td>1.003114</td>\n",
       "    </tr>\n",
       "    <tr>\n",
       "      <th>2019-11-26</th>\n",
       "      <td>1.006096</td>\n",
       "      <td>1.008688</td>\n",
       "      <td>1.009488</td>\n",
       "      <td>1.007935</td>\n",
       "      <td>1.009773</td>\n",
       "    </tr>\n",
       "  </tbody>\n",
       "</table>\n",
       "</div>"
      ],
      "text/plain": [
       "             DAI-USD  BUSD-USD  TUSD-USD  USDC-USD  USDT-USD\n",
       "Date                                                        \n",
       "2019-11-22  0.992598  1.001011  1.002206  1.001247  1.003045\n",
       "2019-11-23  1.016282  1.010858  1.011321  1.011744  1.013130\n",
       "2019-11-24  1.002270  1.018518  1.017851  1.008879  1.017519\n",
       "2019-11-25  1.007021  1.001980  1.003634  1.000393  1.003114\n",
       "2019-11-26  1.006096  1.008688  1.009488  1.007935  1.009773"
      ]
     },
     "execution_count": 3,
     "metadata": {},
     "output_type": "execute_result"
    }
   ],
   "source": [
    "df= pd.read_csv(\"input_data.csv\")\n",
    "df.Date = pd.to_datetime(df.Date, dayfirst = True)\n",
    "df.set_index(\"Date\", inplace = True)\n",
    "df.head()"
   ]
  },
  {
   "cell_type": "code",
   "execution_count": 4,
   "metadata": {
    "colab": {
     "base_uri": "https://localhost:8080/",
     "height": 318
    },
    "executionInfo": {
     "elapsed": 865,
     "status": "ok",
     "timestamp": 1633594711725,
     "user": {
      "displayName": "Tanishq Chauhan",
      "photoUrl": "https://lh3.googleusercontent.com/a-/AOh14GggkDwz2kbsiN3be9s1OYgcBFC5-sc3hTfGRlNnyg=s64",
      "userId": "17101909825884887186"
     },
     "user_tz": -330
    },
    "id": "w-uicsIZAco4",
    "outputId": "cacbf208-bfdd-48b5-c2d7-b52e44eb9337"
   },
   "outputs": [
    {
     "data": {
      "image/png": "[encoded data removed]",
      "text/plain": [
       "<Figure size 1080x360 with 1 Axes>"
      ]
     },
     "metadata": {
      "needs_background": "light"
     },
     "output_type": "display_data"
    }
   ],
   "source": [
    "(df / df.iloc[0] * 100).plot(figsize = (15,5));\n",
    "plt.show()"
   ]
  },
  {
   "cell_type": "code",
   "execution_count": 5,
   "metadata": {
    "id": "5mRItmGePmnp"
   },
   "outputs": [],
   "source": [
    "# After installation portfolio optimization package, import the following\n",
    "from pypfopt.efficient_frontier import EfficientFrontier\n",
    "from pypfopt import risk_models\n",
    "from pypfopt import expected_returns"
   ]
  },
  {
   "cell_type": "code",
   "execution_count": 6,
   "metadata": {
    "id": "FR1K3U1sP44L"
   },
   "outputs": [],
   "source": [
    "# calculate the expected annualized returns and annualized sample covariance matrix\n",
    "mu = expected_returns.mean_historical_return(df)\n",
    "S= risk_models.sample_cov(df) # this gives sample covariance matrix"
   ]
  },
  {
   "cell_type": "code",
   "execution_count": 7,
   "metadata": {
    "colab": {
     "base_uri": "https://localhost:8080/"
    },
    "executionInfo": {
     "elapsed": 10,
     "status": "ok",
     "timestamp": 1633594718410,
     "user": {
      "displayName": "Tanishq Chauhan",
      "photoUrl": "https://lh3.googleusercontent.com/a-/AOh14GggkDwz2kbsiN3be9s1OYgcBFC5-sc3hTfGRlNnyg=s64",
      "userId": "17101909825884887186"
     },
     "user_tz": -330
    },
    "id": "gO2cbK-XP6VS",
    "outputId": "8a6f065c-0190-4cd7-fe1a-3902799e930f"
   },
   "outputs": [
    {
     "ename": "OptimizationError",
     "evalue": "('Please check your objectives/constraints or use a different solver.', 'Solver status: infeasible')",
     "output_type": "error",
     "traceback": [
      "\u001b[0;31m---------------------------------------------------------------------------\u001b[0m",
      "\u001b[0;31mOptimizationError\u001b[0m                         Traceback (most recent call last)",
      "Input \u001b[0;32mIn [7]\u001b[0m, in \u001b[0;36m<cell line: 3>\u001b[0;34m()\u001b[0m\n\u001b[1;32m      1\u001b[0m \u001b[38;5;66;03m# Optimize for the maximal sharpe ratio\u001b[39;00m\n\u001b[1;32m      2\u001b[0m ef\u001b[38;5;241m=\u001b[39m EfficientFrontier(mu,S) \u001b[38;5;66;03m# create efficient frontier onject\u001b[39;00m\n\u001b[0;32m----> 3\u001b[0m weights \u001b[38;5;241m=\u001b[39m \u001b[43mef\u001b[49m\u001b[38;5;241;43m.\u001b[39;49m\u001b[43mmax_sharpe\u001b[49m\u001b[43m(\u001b[49m\u001b[43m)\u001b[49m\n\u001b[1;32m      4\u001b[0m cleaned_weights \u001b[38;5;241m=\u001b[39m ef\u001b[38;5;241m.\u001b[39mclean_weights()\n\u001b[1;32m      5\u001b[0m \u001b[38;5;28mprint\u001b[39m(cleaned_weights)\n",
      "File \u001b[0;32m/usr/local/Cellar/jupyterlab/3.3.0/libexec/lib/python3.9/site-packages/pypfopt/efficient_frontier/efficient_frontier.py:288\u001b[0m, in \u001b[0;36mEfficientFrontier.max_sharpe\u001b[0;34m(self, risk_free_rate)\u001b[0m\n\u001b[1;32m    281\u001b[0m \u001b[38;5;66;03m# Transformed max_sharpe convex problem:\u001b[39;00m\n\u001b[1;32m    282\u001b[0m \u001b[38;5;28mself\u001b[39m\u001b[38;5;241m.\u001b[39m_constraints \u001b[38;5;241m=\u001b[39m [\n\u001b[1;32m    283\u001b[0m     (\u001b[38;5;28mself\u001b[39m\u001b[38;5;241m.\u001b[39mexpected_returns \u001b[38;5;241m-\u001b[39m risk_free_rate)\u001b[38;5;241m.\u001b[39mT \u001b[38;5;241m@\u001b[39m \u001b[38;5;28mself\u001b[39m\u001b[38;5;241m.\u001b[39m_w \u001b[38;5;241m==\u001b[39m \u001b[38;5;241m1\u001b[39m,\n\u001b[1;32m    284\u001b[0m     cp\u001b[38;5;241m.\u001b[39msum(\u001b[38;5;28mself\u001b[39m\u001b[38;5;241m.\u001b[39m_w) \u001b[38;5;241m==\u001b[39m k,\n\u001b[1;32m    285\u001b[0m     k \u001b[38;5;241m>\u001b[39m\u001b[38;5;241m=\u001b[39m \u001b[38;5;241m0\u001b[39m,\n\u001b[1;32m    286\u001b[0m ] \u001b[38;5;241m+\u001b[39m new_constraints\n\u001b[0;32m--> 288\u001b[0m \u001b[38;5;28;43mself\u001b[39;49m\u001b[38;5;241;43m.\u001b[39;49m\u001b[43m_solve_cvxpy_opt_problem\u001b[49m\u001b[43m(\u001b[49m\u001b[43m)\u001b[49m\n\u001b[1;32m    289\u001b[0m \u001b[38;5;66;03m# Inverse-transform\u001b[39;00m\n\u001b[1;32m    290\u001b[0m \u001b[38;5;28mself\u001b[39m\u001b[38;5;241m.\u001b[39mweights \u001b[38;5;241m=\u001b[39m (\u001b[38;5;28mself\u001b[39m\u001b[38;5;241m.\u001b[39m_w\u001b[38;5;241m.\u001b[39mvalue \u001b[38;5;241m/\u001b[39m k\u001b[38;5;241m.\u001b[39mvalue)\u001b[38;5;241m.\u001b[39mround(\u001b[38;5;241m16\u001b[39m) \u001b[38;5;241m+\u001b[39m \u001b[38;5;241m0.0\u001b[39m\n",
      "File \u001b[0;32m/usr/local/Cellar/jupyterlab/3.3.0/libexec/lib/python3.9/site-packages/pypfopt/base_optimizer.py:300\u001b[0m, in \u001b[0;36mBaseConvexOptimizer._solve_cvxpy_opt_problem\u001b[0;34m(self)\u001b[0m\n\u001b[1;32m    297\u001b[0m     \u001b[38;5;28;01mraise\u001b[39;00m exceptions\u001b[38;5;241m.\u001b[39mOptimizationError \u001b[38;5;28;01mfrom\u001b[39;00m \u001b[38;5;21;01me\u001b[39;00m\n\u001b[1;32m    299\u001b[0m \u001b[38;5;28;01mif\u001b[39;00m \u001b[38;5;28mself\u001b[39m\u001b[38;5;241m.\u001b[39m_opt\u001b[38;5;241m.\u001b[39mstatus \u001b[38;5;129;01mnot\u001b[39;00m \u001b[38;5;129;01min\u001b[39;00m {\u001b[38;5;124m\"\u001b[39m\u001b[38;5;124moptimal\u001b[39m\u001b[38;5;124m\"\u001b[39m, \u001b[38;5;124m\"\u001b[39m\u001b[38;5;124moptimal_inaccurate\u001b[39m\u001b[38;5;124m\"\u001b[39m}:\n\u001b[0;32m--> 300\u001b[0m     \u001b[38;5;28;01mraise\u001b[39;00m exceptions\u001b[38;5;241m.\u001b[39mOptimizationError(\n\u001b[1;32m    301\u001b[0m         \u001b[38;5;124m\"\u001b[39m\u001b[38;5;124mSolver status: \u001b[39m\u001b[38;5;132;01m{}\u001b[39;00m\u001b[38;5;124m\"\u001b[39m\u001b[38;5;241m.\u001b[39mformat(\u001b[38;5;28mself\u001b[39m\u001b[38;5;241m.\u001b[39m_opt\u001b[38;5;241m.\u001b[39mstatus)\n\u001b[1;32m    302\u001b[0m     )\n\u001b[1;32m    303\u001b[0m \u001b[38;5;28mself\u001b[39m\u001b[38;5;241m.\u001b[39mweights \u001b[38;5;241m=\u001b[39m \u001b[38;5;28mself\u001b[39m\u001b[38;5;241m.\u001b[39m_w\u001b[38;5;241m.\u001b[39mvalue\u001b[38;5;241m.\u001b[39mround(\u001b[38;5;241m16\u001b[39m) \u001b[38;5;241m+\u001b[39m \u001b[38;5;241m0.0\u001b[39m  \u001b[38;5;66;03m# +0.0 removes signed zero\u001b[39;00m\n\u001b[1;32m    304\u001b[0m \u001b[38;5;28;01mreturn\u001b[39;00m \u001b[38;5;28mself\u001b[39m\u001b[38;5;241m.\u001b[39m_make_output_weights()\n",
      "\u001b[0;31mOptimizationError\u001b[0m: ('Please check your objectives/constraints or use a different solver.', 'Solver status: infeasible')"
     ]
    }
   ],
   "source": [
    "# Optimize for the maximal sharpe ratio\n",
    "ef= EfficientFrontier(mu,S) # create efficient frontier onject\n",
    "weights = ef.max_sharpe()\n",
    "cleaned_weights = ef.clean_weights()\n",
    "print(cleaned_weights)\n",
    "ef.portfolio_performance(verbose= True)"
   ]
  },
  {
   "cell_type": "code",
   "execution_count": null,
   "metadata": {
    "colab": {
     "base_uri": "https://localhost:8080/"
    },
    "executionInfo": {
     "elapsed": 12,
     "status": "ok",
     "timestamp": 1633594721275,
     "user": {
      "displayName": "Tanishq Chauhan",
      "photoUrl": "https://lh3.googleusercontent.com/a-/AOh14GggkDwz2kbsiN3be9s1OYgcBFC5-sc3hTfGRlNnyg=s64",
      "userId": "17101909825884887186"
     },
     "user_tz": -330
    },
    "id": "MO-m0k6LP7ob",
    "outputId": "dbdc6642-9282-44eb-93db-a7c76e3b01cb"
   },
   "outputs": [
    {
     "name": "stdout",
     "output_type": "stream",
     "text": [
      "DiscreteAllocation: {'RELIANCE.NS': 2509, 'TATASTEEL.NS': 2987}\n",
      "Funds remaining: Rs\n"
     ]
    }
   ],
   "source": [
    "# Dicrete allocation \"pip install pulp\" already insatlled\n",
    "# get discreate allocation of each stock\n",
    "from pypfopt.discrete_allocation import DiscreteAllocation, get_latest_prices\n",
    "portfolio_val = 10000000\n",
    "latest_prices = get_latest_prices(df)\n",
    "weights = cleaned_weights\n",
    "da = DiscreteAllocation(weights, latest_prices, total_portfolio_value=  portfolio_val) #da= discrete allocation\n",
    "allocation, leftover = da.lp_portfolio() # this will store stock allocation\n",
    "print('DiscreteAllocation:', allocation)\n",
    "print('Funds remaining: Rs')"
   ]
  },
  {
   "cell_type": "code",
   "execution_count": null,
   "metadata": {
    "colab": {
     "base_uri": "https://localhost:8080/",
     "height": 81
    },
    "executionInfo": {
     "elapsed": 408,
     "status": "ok",
     "timestamp": 1633594724036,
     "user": {
      "displayName": "Tanishq Chauhan",
      "photoUrl": "https://lh3.googleusercontent.com/a-/AOh14GggkDwz2kbsiN3be9s1OYgcBFC5-sc3hTfGRlNnyg=s64",
      "userId": "17101909825884887186"
     },
     "user_tz": -330
    },
    "id": "GH6LrytqP_-M",
    "outputId": "3bb832b5-f8b0-44ae-fe3e-9d721acb0ac3"
   },
   "outputs": [
    {
     "data": {
      "text/html": [
       "<div>\n",
       "<style scoped>\n",
       "    .dataframe tbody tr th:only-of-type {\n",
       "        vertical-align: middle;\n",
       "    }\n",
       "\n",
       "    .dataframe tbody tr th {\n",
       "        vertical-align: top;\n",
       "    }\n",
       "\n",
       "    .dataframe thead th {\n",
       "        text-align: right;\n",
       "    }\n",
       "</style>\n",
       "<table border=\"1\" class=\"dataframe\">\n",
       "  <thead>\n",
       "    <tr style=\"text-align: right;\">\n",
       "      <th></th>\n",
       "      <th>RELIANCE.NS</th>\n",
       "      <th>TATASTEEL.NS</th>\n",
       "    </tr>\n",
       "  </thead>\n",
       "  <tbody>\n",
       "    <tr>\n",
       "      <th>0</th>\n",
       "      <td>2509</td>\n",
       "      <td>2987</td>\n",
       "    </tr>\n",
       "  </tbody>\n",
       "</table>\n",
       "</div>"
      ],
      "text/plain": [
       "   RELIANCE.NS  TATASTEEL.NS\n",
       "0         2509          2987"
      ]
     },
     "execution_count": 98,
     "metadata": {},
     "output_type": "execute_result"
    }
   ],
   "source": [
    "# creating a portfolio dataframe\n",
    "portfolio_df = pd.DataFrame(allocation, index=[0])\n",
    "portfolio_df"
   ]
  },
  {
   "cell_type": "code",
   "execution_count": 15,
   "metadata": {
    "colab": {
     "base_uri": "https://localhost:8080/",
     "height": 238
    },
    "executionInfo": {
     "elapsed": 381,
     "status": "ok",
     "timestamp": 1633594730660,
     "user": {
      "displayName": "Tanishq Chauhan",
      "photoUrl": "https://lh3.googleusercontent.com/a-/AOh14GggkDwz2kbsiN3be9s1OYgcBFC5-sc3hTfGRlNnyg=s64",
      "userId": "17101909825884887186"
     },
     "user_tz": -330
    },
    "id": "bBmBa2oAQBVc",
    "outputId": "f9f355e9-1746-417f-dd51-48b8acfc8623"
   },
   "outputs": [
    {
     "data": {
      "text/html": [
       "<div>\n",
       "<style scoped>\n",
       "    .dataframe tbody tr th:only-of-type {\n",
       "        vertical-align: middle;\n",
       "    }\n",
       "\n",
       "    .dataframe tbody tr th {\n",
       "        vertical-align: top;\n",
       "    }\n",
       "\n",
       "    .dataframe thead th {\n",
       "        text-align: right;\n",
       "    }\n",
       "</style>\n",
       "<table border=\"1\" class=\"dataframe\">\n",
       "  <thead>\n",
       "    <tr style=\"text-align: right;\">\n",
       "      <th></th>\n",
       "      <th>DAI-USD</th>\n",
       "      <th>BUSD-USD</th>\n",
       "      <th>TUSD-USD</th>\n",
       "      <th>USDC-USD</th>\n",
       "      <th>USDT-USD</th>\n",
       "    </tr>\n",
       "    <tr>\n",
       "      <th>Date</th>\n",
       "      <th></th>\n",
       "      <th></th>\n",
       "      <th></th>\n",
       "      <th></th>\n",
       "      <th></th>\n",
       "    </tr>\n",
       "  </thead>\n",
       "  <tbody>\n",
       "    <tr>\n",
       "      <th>2019-11-23</th>\n",
       "      <td>0.023861</td>\n",
       "      <td>0.009837</td>\n",
       "      <td>0.009095</td>\n",
       "      <td>0.010484</td>\n",
       "      <td>0.010054</td>\n",
       "    </tr>\n",
       "    <tr>\n",
       "      <th>2019-11-24</th>\n",
       "      <td>-0.013788</td>\n",
       "      <td>0.007578</td>\n",
       "      <td>0.006457</td>\n",
       "      <td>-0.002832</td>\n",
       "      <td>0.004332</td>\n",
       "    </tr>\n",
       "    <tr>\n",
       "      <th>2019-11-25</th>\n",
       "      <td>0.004740</td>\n",
       "      <td>-0.016237</td>\n",
       "      <td>-0.013968</td>\n",
       "      <td>-0.008411</td>\n",
       "      <td>-0.014157</td>\n",
       "    </tr>\n",
       "    <tr>\n",
       "      <th>2019-11-26</th>\n",
       "      <td>-0.000919</td>\n",
       "      <td>0.006695</td>\n",
       "      <td>0.005833</td>\n",
       "      <td>0.007539</td>\n",
       "      <td>0.006638</td>\n",
       "    </tr>\n",
       "    <tr>\n",
       "      <th>2019-11-27</th>\n",
       "      <td>-0.009007</td>\n",
       "      <td>-0.005279</td>\n",
       "      <td>-0.004343</td>\n",
       "      <td>-0.000443</td>\n",
       "      <td>-0.004700</td>\n",
       "    </tr>\n",
       "  </tbody>\n",
       "</table>\n",
       "</div>"
      ],
      "text/plain": [
       "             DAI-USD  BUSD-USD  TUSD-USD  USDC-USD  USDT-USD\n",
       "Date                                                        \n",
       "2019-11-23  0.023861  0.009837  0.009095  0.010484  0.010054\n",
       "2019-11-24 -0.013788  0.007578  0.006457 -0.002832  0.004332\n",
       "2019-11-25  0.004740 -0.016237 -0.013968 -0.008411 -0.014157\n",
       "2019-11-26 -0.000919  0.006695  0.005833  0.007539  0.006638\n",
       "2019-11-27 -0.009007 -0.005279 -0.004343 -0.000443 -0.004700"
      ]
     },
     "execution_count": 15,
     "metadata": {},
     "output_type": "execute_result"
    }
   ],
   "source": [
    "Portfolio_value = 10000000\n",
    "returns = df.pct_change()\n",
    "returns = returns[1:]\n",
    "returns.shape\n",
    "returns.head()"
   ]
  },
  {
   "cell_type": "code",
   "execution_count": null,
   "metadata": {
    "colab": {
     "base_uri": "https://localhost:8080/"
    },
    "executionInfo": {
     "elapsed": 476,
     "status": "ok",
     "timestamp": 1633594741864,
     "user": {
      "displayName": "Tanishq Chauhan",
      "photoUrl": "https://lh3.googleusercontent.com/a-/AOh14GggkDwz2kbsiN3be9s1OYgcBFC5-sc3hTfGRlNnyg=s64",
      "userId": "17101909825884887186"
     },
     "user_tz": -330
    },
    "id": "dpIJy6NVQV4t",
    "outputId": "8de09943-375c-4081-cd3e-a269c63d367a"
   },
   "outputs": [
    {
     "data": {
      "text/plain": [
       "(1, 5)"
      ]
     },
     "execution_count": 100,
     "metadata": {},
     "output_type": "execute_result"
    }
   ],
   "source": [
    "weights = pd.read_csv(\"weights2.csv\")\n",
    "weights= np.array(weights)\n",
    "weights.shape"
   ]
  },
  {
   "cell_type": "code",
   "execution_count": null,
   "metadata": {
    "colab": {
     "base_uri": "https://localhost:8080/"
    },
    "executionInfo": {
     "elapsed": 71,
     "status": "ok",
     "timestamp": 1633585901455,
     "user": {
      "displayName": "Tanishq Chauhan",
      "photoUrl": "https://lh3.googleusercontent.com/a-/AOh14GggkDwz2kbsiN3be9s1OYgcBFC5-sc3hTfGRlNnyg=s64",
      "userId": "17101909825884887186"
     },
     "user_tz": -330
    },
    "id": "lOLqW7DcRVLV",
    "outputId": "1fec5dc7-1098-4cf5-c82f-44bc916e74dc"
   },
   "outputs": [
    {
     "data": {
      "text/plain": [
       "(1495,)"
      ]
     },
     "execution_count": 57,
     "metadata": {},
     "output_type": "execute_result"
    }
   ],
   "source": [
    "pnl = (weights * returns.values).sum(axis=1)\n",
    "pnl.shape"
   ]
  },
  {
   "cell_type": "code",
   "execution_count": null,
   "metadata": {
    "colab": {
     "base_uri": "https://localhost:8080/"
    },
    "executionInfo": {
     "elapsed": 68,
     "status": "ok",
     "timestamp": 1633585901457,
     "user": {
      "displayName": "Tanishq Chauhan",
      "photoUrl": "https://lh3.googleusercontent.com/a-/AOh14GggkDwz2kbsiN3be9s1OYgcBFC5-sc3hTfGRlNnyg=s64",
      "userId": "17101909825884887186"
     },
     "user_tz": -330
    },
    "id": "61iet8P6RZWc",
    "outputId": "fd5edbbe-c125-4d8d-d2a4-70f3fee37e8d"
   },
   "outputs": [
    {
     "data": {
      "text/plain": [
       "-0.0433176289744206"
      ]
     },
     "execution_count": 58,
     "metadata": {},
     "output_type": "execute_result"
    }
   ],
   "source": [
    "historic_var95 = np.percentile(pnl, 5, interpolation = \"lower\")\n",
    "historic_var99 = np.percentile(pnl, 1, interpolation = \"lower\")\n",
    "historic_var99"
   ]
  },
  {
   "cell_type": "code",
   "execution_count": null,
   "metadata": {
    "colab": {
     "base_uri": "https://localhost:8080/"
    },
    "executionInfo": {
     "elapsed": 66,
     "status": "ok",
     "timestamp": 1633585901458,
     "user": {
      "displayName": "Tanishq Chauhan",
      "photoUrl": "https://lh3.googleusercontent.com/a-/AOh14GggkDwz2kbsiN3be9s1OYgcBFC5-sc3hTfGRlNnyg=s64",
      "userId": "17101909825884887186"
     },
     "user_tz": -330
    },
    "id": "2_zWrWt9SKJT",
    "outputId": "cefa83e4-a941-4223-b561-98024350b005"
   },
   "outputs": [
    {
     "data": {
      "text/plain": [
       "-1172062.2951425663"
      ]
     },
     "execution_count": 59,
     "metadata": {},
     "output_type": "execute_result"
    }
   ],
   "source": [
    "Daily_VaR95 = Portfolio_value*historic_var95\n",
    "Monthly_VaR95 = Daily_VaR95 * np.sqrt(22)\n",
    "Monthly_VaR95"
   ]
  },
  {
   "cell_type": "code",
   "execution_count": null,
   "metadata": {
    "colab": {
     "base_uri": "https://localhost:8080/"
    },
    "executionInfo": {
     "elapsed": 64,
     "status": "ok",
     "timestamp": 1633585901459,
     "user": {
      "displayName": "Tanishq Chauhan",
      "photoUrl": "https://lh3.googleusercontent.com/a-/AOh14GggkDwz2kbsiN3be9s1OYgcBFC5-sc3hTfGRlNnyg=s64",
      "userId": "17101909825884887186"
     },
     "user_tz": -330
    },
    "id": "qV6zzqD3Rayj",
    "outputId": "267b0b47-c6e2-4974-8064-3d8c113cbd6a"
   },
   "outputs": [
    {
     "data": {
      "text/plain": [
       "-2031776.8961980639"
      ]
     },
     "execution_count": 60,
     "metadata": {},
     "output_type": "execute_result"
    }
   ],
   "source": [
    "Daily_VaR99 = Portfolio_value*historic_var99\n",
    "Monthly_VaR99 = Daily_VaR99 * np.sqrt(22)\n",
    "Monthly_VaR99"
   ]
  },
  {
   "cell_type": "code",
   "execution_count": null,
   "metadata": {
    "colab": {
     "base_uri": "https://localhost:8080/"
    },
    "executionInfo": {
     "elapsed": 61,
     "status": "ok",
     "timestamp": 1633585901460,
     "user": {
      "displayName": "Tanishq Chauhan",
      "photoUrl": "https://lh3.googleusercontent.com/a-/AOh14GggkDwz2kbsiN3be9s1OYgcBFC5-sc3hTfGRlNnyg=s64",
      "userId": "17101909825884887186"
     },
     "user_tz": -330
    },
    "id": "wJZDASaMRddk",
    "outputId": "6ba39c89-8384-4f70-fe36-bc1525cef433"
   },
   "outputs": [
    {
     "data": {
      "text/plain": [
       "-2031776.8961980639"
      ]
     },
     "execution_count": 61,
     "metadata": {},
     "output_type": "execute_result"
    }
   ],
   "source": [
    "Daily_VaR99 = Portfolio_value*historic_var99\n",
    "Monthly_VaR99 = Daily_VaR99 * np.sqrt(22)\n",
    "Monthly_VaR99"
   ]
  },
  {
   "cell_type": "markdown",
   "metadata": {
    "id": "AFQ_v_H7Ric7"
   },
   "source": [
    "### CVaR"
   ]
  },
  {
   "cell_type": "code",
   "execution_count": null,
   "metadata": {
    "colab": {
     "base_uri": "https://localhost:8080/"
    },
    "executionInfo": {
     "elapsed": 59,
     "status": "ok",
     "timestamp": 1633585901461,
     "user": {
      "displayName": "Tanishq Chauhan",
      "photoUrl": "https://lh3.googleusercontent.com/a-/AOh14GggkDwz2kbsiN3be9s1OYgcBFC5-sc3hTfGRlNnyg=s64",
      "userId": "17101909825884887186"
     },
     "user_tz": -330
    },
    "id": "j4_u8f6kRfFN",
    "outputId": "6469ad6d-733c-4cbc-8eca-86d5583c9e48"
   },
   "outputs": [
    {
     "data": {
      "text/plain": [
       "-0.03823063245361071"
      ]
     },
     "execution_count": 62,
     "metadata": {},
     "output_type": "execute_result"
    }
   ],
   "source": [
    "var_level = 95\n",
    "var_95 = np.percentile(pnl, 100 - var_level)\n",
    "cvar_95 = pnl[pnl <= var_95].mean()\n",
    "cvar_95"
   ]
  },
  {
   "cell_type": "code",
   "execution_count": null,
   "metadata": {
    "colab": {
     "base_uri": "https://localhost:8080/"
    },
    "executionInfo": {
     "elapsed": 56,
     "status": "ok",
     "timestamp": 1633585901462,
     "user": {
      "displayName": "Tanishq Chauhan",
      "photoUrl": "https://lh3.googleusercontent.com/a-/AOh14GggkDwz2kbsiN3be9s1OYgcBFC5-sc3hTfGRlNnyg=s64",
      "userId": "17101909825884887186"
     },
     "user_tz": -330
    },
    "id": "mBe4vhISRlaA",
    "outputId": "f91f93bf-ac83-4f38-d9e0-39b6d54e58da"
   },
   "outputs": [
    {
     "data": {
      "text/plain": [
       "-382306.32453610713"
      ]
     },
     "execution_count": 63,
     "metadata": {},
     "output_type": "execute_result"
    }
   ],
   "source": [
    "CVaR_port =cvar_95*Portfolio_value\n",
    "CVaR_port"
   ]
  },
  {
   "cell_type": "code",
   "execution_count": null,
   "metadata": {
    "colab": {
     "base_uri": "https://localhost:8080/"
    },
    "executionInfo": {
     "elapsed": 54,
     "status": "ok",
     "timestamp": 1633585901464,
     "user": {
      "displayName": "Tanishq Chauhan",
      "photoUrl": "https://lh3.googleusercontent.com/a-/AOh14GggkDwz2kbsiN3be9s1OYgcBFC5-sc3hTfGRlNnyg=s64",
      "userId": "17101909825884887186"
     },
     "user_tz": -330
    },
    "id": "p3uA_94KRm2B",
    "outputId": "0a8519a5-8142-4db1-a130-94f75c441681"
   },
   "outputs": [
    {
     "data": {
      "text/plain": [
       "-646270.1797729599"
      ]
     },
     "execution_count": 64,
     "metadata": {},
     "output_type": "execute_result"
    }
   ],
   "source": [
    "var_level2 = 99\n",
    "var_99 = np.percentile(pnl, 100 - var_level2)\n",
    "cvar_99 = pnl[pnl <= var_99].mean()\n",
    "CVaR_port99 =cvar_99*Portfolio_value\n",
    "CVaR_port99\n"
   ]
  },
  {
   "cell_type": "code",
   "execution_count": null,
   "metadata": {
    "id": "4NLuEo-vRoKX"
   },
   "outputs": [],
   "source": [
    "output = [['Portfolio Value', Portfolio_value], ['Daily_VaR_95', Daily_VaR95],['Monthly_VaR95', Monthly_VaR95],['Daily_VaR_99', Daily_VaR99],['Monthly_VaR99', Monthly_VaR99], ['Daily_CVAR_95', CVaR_port],['Daily_CVAR_99', CVaR_port99]] "
   ]
  },
  {
   "cell_type": "code",
   "execution_count": null,
   "metadata": {
    "colab": {
     "base_uri": "https://localhost:8080/",
     "height": 269
    },
    "executionInfo": {
     "elapsed": 54,
     "status": "ok",
     "timestamp": 1633585901468,
     "user": {
      "displayName": "Tanishq Chauhan",
      "photoUrl": "https://lh3.googleusercontent.com/a-/AOh14GggkDwz2kbsiN3be9s1OYgcBFC5-sc3hTfGRlNnyg=s64",
      "userId": "17101909825884887186"
     },
     "user_tz": -330
    },
    "id": "t41R4bAmRqYR",
    "outputId": "9e6f4c38-65be-4588-c359-2679ddc799dc"
   },
   "outputs": [
    {
     "data": {
      "text/html": [
       "<div>\n",
       "<style scoped>\n",
       "    .dataframe tbody tr th:only-of-type {\n",
       "        vertical-align: middle;\n",
       "    }\n",
       "\n",
       "    .dataframe tbody tr th {\n",
       "        vertical-align: top;\n",
       "    }\n",
       "\n",
       "    .dataframe thead th {\n",
       "        text-align: right;\n",
       "    }\n",
       "</style>\n",
       "<table border=\"1\" class=\"dataframe\">\n",
       "  <thead>\n",
       "    <tr style=\"text-align: right;\">\n",
       "      <th></th>\n",
       "      <th>Details</th>\n",
       "      <th>Amount in Mn</th>\n",
       "    </tr>\n",
       "  </thead>\n",
       "  <tbody>\n",
       "    <tr>\n",
       "      <th>0</th>\n",
       "      <td>Portfolio Value</td>\n",
       "      <td>1.000000e+07</td>\n",
       "    </tr>\n",
       "    <tr>\n",
       "      <th>1</th>\n",
       "      <td>Daily_VaR_95</td>\n",
       "      <td>-2.498845e+05</td>\n",
       "    </tr>\n",
       "    <tr>\n",
       "      <th>2</th>\n",
       "      <td>Monthly_VaR95</td>\n",
       "      <td>-1.172062e+06</td>\n",
       "    </tr>\n",
       "    <tr>\n",
       "      <th>3</th>\n",
       "      <td>Daily_VaR_99</td>\n",
       "      <td>-4.331763e+05</td>\n",
       "    </tr>\n",
       "    <tr>\n",
       "      <th>4</th>\n",
       "      <td>Monthly_VaR99</td>\n",
       "      <td>-2.031777e+06</td>\n",
       "    </tr>\n",
       "    <tr>\n",
       "      <th>5</th>\n",
       "      <td>Daily_CVAR_95</td>\n",
       "      <td>-3.823063e+05</td>\n",
       "    </tr>\n",
       "    <tr>\n",
       "      <th>6</th>\n",
       "      <td>Daily_CVAR_99</td>\n",
       "      <td>-6.462702e+05</td>\n",
       "    </tr>\n",
       "  </tbody>\n",
       "</table>\n",
       "</div>"
      ],
      "text/plain": [
       "           Details   Amount in Mn\n",
       "0  Portfolio Value   1.000000e+07\n",
       "1     Daily_VaR_95  -2.498845e+05\n",
       "2    Monthly_VaR95  -1.172062e+06\n",
       "3     Daily_VaR_99  -4.331763e+05\n",
       "4    Monthly_VaR99  -2.031777e+06\n",
       "5    Daily_CVAR_95  -3.823063e+05\n",
       "6    Daily_CVAR_99  -6.462702e+05"
      ]
     },
     "execution_count": 66,
     "metadata": {},
     "output_type": "execute_result"
    }
   ],
   "source": [
    "output2 = pd.DataFrame(output, columns=['Details', \" Amount in Mn\"])\n",
    "output2"
   ]
  },
  {
   "cell_type": "markdown",
   "metadata": {},
   "source": [
    "- VaR is conventionally reported as a positive number. \n",
    "- A negative VaR would imply the portfolio has a high probability of making a profit\n",
    "- For example a one-day 5% VaR of negative 1 million implies the portfolio has a 95 percent chance of making more than 1 million over the next day."
   ]
  }
 ],
 "metadata": {
  "colab": {
   "authorship_tag": "ABX9TyMBAug5vKea9TgEh44kqb8e",
   "collapsed_sections": [],
   "name": "Efficient_Frontier.ipynb",
   "provenance": []
  },
  "kernelspec": {
   "display_name": "Python 3 (ipykernel)",
   "language": "python",
   "name": "python3"
  },
  "language_info": {
   "codemirror_mode": {
    "name": "ipython",
    "version": 3
   },
   "file_extension": ".py",
   "mimetype": "text/x-python",
   "name": "python",
   "nbconvert_exporter": "python",
   "pygments_lexer": "ipython3",
   "version": "3.9.10"
  }
 },
 "nbformat": 4,
 "nbformat_minor": 1
}
