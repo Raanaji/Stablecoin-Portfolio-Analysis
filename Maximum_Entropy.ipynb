{
 "cells": [
  {
   "cell_type": "code",
   "execution_count": 1,
   "metadata": {
    "id": "Egktt5wR-dHR"
   },
   "outputs": [
    {
     "name": "stdout",
     "output_type": "stream",
     "text": [
      "Requirement already satisfied: PyPortfolioOpt in /usr/local/Cellar/jupyterlab/3.3.0/libexec/lib/python3.9/site-packages (1.5.1)\n",
      "Requirement already satisfied: cvxpy<2.0.0,>=1.1.10 in /usr/local/Cellar/jupyterlab/3.3.0/libexec/lib/python3.9/site-packages (from PyPortfolioOpt) (1.2.0)\n",
      "Requirement already satisfied: scipy<2.0,>=1.3 in /usr/local/Cellar/jupyterlab/3.3.0/libexec/lib/python3.9/site-packages (from PyPortfolioOpt) (1.8.0)\n",
      "Requirement already satisfied: pandas>=0.19 in /usr/local/Cellar/jupyterlab/3.3.0/libexec/lib/python3.9/site-packages (from PyPortfolioOpt) (1.4.1)\n",
      "Requirement already satisfied: numpy<2.0,>=1.12 in /usr/local/lib/python3.9/site-packages (from PyPortfolioOpt) (1.22.3)\n",
      "Requirement already satisfied: ecos>=2 in /usr/local/Cellar/jupyterlab/3.3.0/libexec/lib/python3.9/site-packages (from cvxpy<2.0.0,>=1.1.10->PyPortfolioOpt) (2.0.10)\n",
      "Requirement already satisfied: osqp>=0.4.1 in /usr/local/Cellar/jupyterlab/3.3.0/libexec/lib/python3.9/site-packages (from cvxpy<2.0.0,>=1.1.10->PyPortfolioOpt) (0.6.2.post5)\n",
      "Requirement already satisfied: scs>=1.1.6 in /usr/local/Cellar/jupyterlab/3.3.0/libexec/lib/python3.9/site-packages (from cvxpy<2.0.0,>=1.1.10->PyPortfolioOpt) (3.2.0)\n",
      "Requirement already satisfied: pytz>=2020.1 in /usr/local/Cellar/jupyterlab/3.3.0/libexec/lib/python3.9/site-packages (from pandas>=0.19->PyPortfolioOpt) (2021.3)\n",
      "Requirement already satisfied: python-dateutil>=2.8.1 in /usr/local/Cellar/jupyterlab/3.3.0/libexec/lib/python3.9/site-packages (from pandas>=0.19->PyPortfolioOpt) (2.8.2)\n",
      "Requirement already satisfied: qdldl in /usr/local/Cellar/jupyterlab/3.3.0/libexec/lib/python3.9/site-packages (from osqp>=0.4.1->cvxpy<2.0.0,>=1.1.10->PyPortfolioOpt) (0.1.5.post0)\n",
      "Requirement already satisfied: six>=1.5 in /usr/local/Cellar/six/1.16.0_2/lib/python3.9/site-packages (from python-dateutil>=2.8.1->pandas>=0.19->PyPortfolioOpt) (1.16.0)\n",
      "\u001b[33mWARNING: You are using pip version 21.3.1; however, version 22.0.4 is available.\n",
      "You should consider upgrading via the '/usr/local/Cellar/jupyterlab/3.3.0/libexec/bin/python3.9 -m pip install --upgrade pip' command.\u001b[0m\n",
      "Note: you may need to restart the kernel to use updated packages.\n"
     ]
    }
   ],
   "source": [
    "pip install PyPortfolioOpt"
   ]
  },
  {
   "cell_type": "code",
   "execution_count": 2,
   "metadata": {
    "id": "u85Iv28k-dEv"
   },
   "outputs": [
    {
     "name": "stdout",
     "output_type": "stream",
     "text": [
      "Requirement already satisfied: yfinance in /usr/local/Cellar/jupyterlab/3.3.0/libexec/lib/python3.9/site-packages (0.1.70)\n",
      "Requirement already satisfied: numpy>=1.15 in /usr/local/lib/python3.9/site-packages (from yfinance) (1.22.3)\n",
      "Requirement already satisfied: requests>=2.26 in /usr/local/Cellar/jupyterlab/3.3.0/libexec/lib/python3.9/site-packages (from yfinance) (2.27.1)\n",
      "Requirement already satisfied: pandas>=0.24.0 in /usr/local/Cellar/jupyterlab/3.3.0/libexec/lib/python3.9/site-packages (from yfinance) (1.4.1)\n",
      "Requirement already satisfied: lxml>=4.5.1 in /usr/local/Cellar/jupyterlab/3.3.0/libexec/lib/python3.9/site-packages (from yfinance) (4.8.0)\n",
      "Requirement already satisfied: multitasking>=0.0.7 in /usr/local/Cellar/jupyterlab/3.3.0/libexec/lib/python3.9/site-packages (from yfinance) (0.0.10)\n",
      "Requirement already satisfied: pytz>=2020.1 in /usr/local/Cellar/jupyterlab/3.3.0/libexec/lib/python3.9/site-packages (from pandas>=0.24.0->yfinance) (2021.3)\n",
      "Requirement already satisfied: python-dateutil>=2.8.1 in /usr/local/Cellar/jupyterlab/3.3.0/libexec/lib/python3.9/site-packages (from pandas>=0.24.0->yfinance) (2.8.2)\n",
      "Requirement already satisfied: urllib3<1.27,>=1.21.1 in /usr/local/Cellar/jupyterlab/3.3.0/libexec/lib/python3.9/site-packages (from requests>=2.26->yfinance) (1.26.8)\n",
      "Requirement already satisfied: certifi>=2017.4.17 in /usr/local/Cellar/jupyterlab/3.3.0/libexec/lib/python3.9/site-packages (from requests>=2.26->yfinance) (2021.10.8)\n",
      "Requirement already satisfied: charset_normalizer~=2.0.0 in /usr/local/Cellar/jupyterlab/3.3.0/libexec/lib/python3.9/site-packages (from requests>=2.26->yfinance) (2.0.12)\n",
      "Requirement already satisfied: idna<4,>=2.5 in /usr/local/Cellar/jupyterlab/3.3.0/libexec/lib/python3.9/site-packages (from requests>=2.26->yfinance) (3.3)\n",
      "Requirement already satisfied: six>=1.5 in /usr/local/Cellar/six/1.16.0_2/lib/python3.9/site-packages (from python-dateutil>=2.8.1->pandas>=0.24.0->yfinance) (1.16.0)\n",
      "\u001b[33mWARNING: You are using pip version 21.3.1; however, version 22.0.4 is available.\n",
      "You should consider upgrading via the '/usr/local/Cellar/jupyterlab/3.3.0/libexec/bin/python3.9 -m pip install --upgrade pip' command.\u001b[0m\n",
      "Note: you may need to restart the kernel to use updated packages.\n"
     ]
    }
   ],
   "source": [
    "pip install yfinance"
   ]
  },
  {
   "cell_type": "code",
   "execution_count": 3,
   "metadata": {
    "id": "HciTfAmf-dA6"
   },
   "outputs": [
    {
     "name": "stdout",
     "output_type": "stream",
     "text": [
      "Requirement already satisfied: pulp in /usr/local/Cellar/jupyterlab/3.3.0/libexec/lib/python3.9/site-packages (2.6.0)\n",
      "\u001b[33mWARNING: You are using pip version 21.3.1; however, version 22.0.4 is available.\n",
      "You should consider upgrading via the '/usr/local/Cellar/jupyterlab/3.3.0/libexec/bin/python3.9 -m pip install --upgrade pip' command.\u001b[0m\n",
      "Note: you may need to restart the kernel to use updated packages.\n"
     ]
    }
   ],
   "source": [
    "pip install pulp"
   ]
  },
  {
   "cell_type": "code",
   "execution_count": 4,
   "metadata": {
    "id": "rJGxUY_u-czg"
   },
   "outputs": [
    {
     "name": "stdout",
     "output_type": "stream",
     "text": [
      "Requirement already satisfied: quandl in /usr/local/Cellar/jupyterlab/3.3.0/libexec/lib/python3.9/site-packages (3.7.0)\n",
      "Requirement already satisfied: six in /usr/local/Cellar/six/1.16.0_2/lib/python3.9/site-packages (from quandl) (1.16.0)\n",
      "Requirement already satisfied: numpy>=1.8 in /usr/local/lib/python3.9/site-packages (from quandl) (1.22.3)\n",
      "Requirement already satisfied: inflection>=0.3.1 in /usr/local/Cellar/jupyterlab/3.3.0/libexec/lib/python3.9/site-packages (from quandl) (0.5.1)\n",
      "Requirement already satisfied: pandas>=0.14 in /usr/local/Cellar/jupyterlab/3.3.0/libexec/lib/python3.9/site-packages (from quandl) (1.4.1)\n",
      "Requirement already satisfied: more-itertools in /usr/local/Cellar/jupyterlab/3.3.0/libexec/lib/python3.9/site-packages (from quandl) (8.12.0)\n",
      "Requirement already satisfied: requests>=2.7.0 in /usr/local/Cellar/jupyterlab/3.3.0/libexec/lib/python3.9/site-packages (from quandl) (2.27.1)\n",
      "Requirement already satisfied: python-dateutil in /usr/local/Cellar/jupyterlab/3.3.0/libexec/lib/python3.9/site-packages (from quandl) (2.8.2)\n",
      "Requirement already satisfied: pytz>=2020.1 in /usr/local/Cellar/jupyterlab/3.3.0/libexec/lib/python3.9/site-packages (from pandas>=0.14->quandl) (2021.3)\n",
      "Requirement already satisfied: urllib3<1.27,>=1.21.1 in /usr/local/Cellar/jupyterlab/3.3.0/libexec/lib/python3.9/site-packages (from requests>=2.7.0->quandl) (1.26.8)\n",
      "Requirement already satisfied: certifi>=2017.4.17 in /usr/local/Cellar/jupyterlab/3.3.0/libexec/lib/python3.9/site-packages (from requests>=2.7.0->quandl) (2021.10.8)\n",
      "Requirement already satisfied: charset_normalizer~=2.0.0 in /usr/local/Cellar/jupyterlab/3.3.0/libexec/lib/python3.9/site-packages (from requests>=2.7.0->quandl) (2.0.12)\n",
      "Requirement already satisfied: idna<4,>=2.5 in /usr/local/Cellar/jupyterlab/3.3.0/libexec/lib/python3.9/site-packages (from requests>=2.7.0->quandl) (3.3)\n",
      "\u001b[33mWARNING: You are using pip version 21.3.1; however, version 22.0.4 is available.\n",
      "You should consider upgrading via the '/usr/local/Cellar/jupyterlab/3.3.0/libexec/bin/python3.9 -m pip install --upgrade pip' command.\u001b[0m\n",
      "Note: you may need to restart the kernel to use updated packages.\n"
     ]
    }
   ],
   "source": [
    "pip install quandl"
   ]
  },
  {
   "cell_type": "code",
   "execution_count": 1,
   "metadata": {
    "colab": {
     "base_uri": "https://localhost:8080/"
    },
    "executionInfo": {
     "elapsed": 14,
     "status": "ok",
     "timestamp": 1633585902496,
     "user": {
      "displayName": "Tanishq Chauhan",
      "photoUrl": "https://lh3.googleusercontent.com/a-/AOh14GggkDwz2kbsiN3be9s1OYgcBFC5-sc3hTfGRlNnyg=s64",
      "userId": "17101909825884887186"
     },
     "user_tz": -330
    },
    "id": "ZoSjBpmT6zKR",
    "outputId": "3b475141-5121-48c8-a112-876bde3ce4c4"
   },
   "outputs": [
    {
     "name": "stderr",
     "output_type": "stream",
     "text": [
      "/var/folders/dh/cjyd2n_s6jv3g6srpjrvn0hw0000gn/T/ipykernel_19124/821589058.py:8: RuntimeWarning: invalid value encountered in log\n",
      "  entropy_part=np.dot(w_tp,np.log(w))\n",
      "/var/folders/dh/cjyd2n_s6jv3g6srpjrvn0hw0000gn/T/ipykernel_19124/821589058.py:48: RuntimeWarning: invalid value encountered in log\n",
      "  portfolio_entropy=-1*np.dot(w_tp,np.log(w))\n"
     ]
    },
    {
     "name": "stdout",
     "output_type": "stream",
     "text": [
      "------------------objective function entropy----------------------------\n",
      "weights1:  3.7705864335799699205\n",
      "weights2:  -0.0000000002310467725\n",
      "weights3:  0.0000000848634247131\n",
      "weights4:  0.0000000020392225392\n",
      "weights5:  0.0000000042719641833\n",
      "portfolio risk :  0.5038462098003937\n",
      "portfolio return :  0.042217853474472336\n",
      "portfolio entropy :  nan\n"
     ]
    }
   ],
   "source": [
    "import numpy as np \n",
    "import pandas as pd\n",
    "import matplotlib.pyplot as plt\n",
    "from scipy.optimize import minimize\n",
    "\n",
    "def objective_function(w):\n",
    "    w_tp=w.transpose()\n",
    "    entropy_part=np.dot(w_tp,np.log(w))\n",
    "    return entropy_part \n",
    "    \n",
    "def equality_constraint_1(w):\n",
    "    w_tp=w.transpose()\n",
    "    return 1-np.dot(w_tp,ones)\n",
    "\n",
    "def equality_constraint_2(w):\n",
    "    w_tp=w.transpose()\n",
    "    return u-np.dot(w_tp,returns)\n",
    "\n",
    "\n",
    "df= pd.read_csv(\"input_data.csv\")\n",
    "df.Date = pd.to_datetime(df.Date, dayfirst = True)\n",
    "df.set_index(\"Date\", inplace = True)\n",
    "df=df.pct_change()\n",
    "df = df[1:]\n",
    "df=df.dropna()\n",
    "mean=df.mean()\n",
    "cov=df.cov()\n",
    "returns=mean.values*252\n",
    "cov=cov.values*252\n",
    "ones=np.ones((cov.shape[0],1))\n",
    "u=0.1\n",
    "bounds=[(-1000,1000),(-1000,1000),(-1000,1000),(-1000,1000),(-1000,1000)]\n",
    "#bounds=[(-1000,1000),(-10000,1000),(-1000,1000),(-1000,1000),(-1000,1000)]\n",
    "w0=[1,1,1,1,1]\n",
    "constraint_1={'type': 'eq','fun':equality_constraint_1}\n",
    "constraint_2={'type': 'eq','fun':equality_constraint_2}\n",
    "constraint=[constraint_1,constraint_2]\n",
    "result=minimize(objective_function,w0,method='SLSQP',bounds=bounds,constraints=constraint)\n",
    "w=result['x']\n",
    "\n",
    "print(\"------------------objective function entropy----------------------------\")\n",
    "for i in range(len(w)):\n",
    "    print('weights'+ str(i+1) + ': ',\"{:.19f}\".format(float(w[i])))\n",
    "\n",
    "w_tp=w.transpose()\n",
    "portfolio_variance=np.dot(np.dot(w_tp,cov),w)\n",
    "portfolio_return=np.dot(w_tp,returns)\n",
    "portfolio_entropy=-1*np.dot(w_tp,np.log(w))\n",
    "\n",
    "print(\"portfolio risk : \" , np.sqrt(portfolio_variance) )\n",
    "print(\"portfolio return : \" , portfolio_return)\n",
    "print(\"portfolio entropy : \" , portfolio_entropy)\n",
    "trial_numbers=20000\n",
    "all_weights=np.zeros((trial_numbers,len(w)))\n",
    "all_risk=np.zeros((trial_numbers))\n",
    "all_returns=np.zeros((trial_numbers))\n",
    "all_entropy=np.zeros((trial_numbers))\n",
    "\n",
    "for i in range(trial_numbers):\n",
    "    #weights\n",
    "    weights=np.random.uniform(size=len(w))\n",
    "    weights=weights/np.sum(weights)\n",
    "    all_weights[i]=weights\n",
    "    #risk\n",
    "    variance=np.dot(np.dot(weights.T,cov),weights)\n",
    "    risk=np.sqrt(variance)\n",
    "    all_risk[i]=risk\n",
    "    #returns\n",
    "    port_ret=np.dot(weights,returns)\n",
    "    all_returns[i]=port_ret\n",
    "    #entropy\n",
    "    entropy_part=np.dot(weights.transpose(),np.log(weights))\n",
    "    all_entropy[i]=-1*entropy_part"
   ]
  },
  {
   "cell_type": "code",
   "execution_count": 2,
   "metadata": {
    "colab": {
     "base_uri": "https://localhost:8080/",
     "height": 295
    },
    "executionInfo": {
     "elapsed": 2296,
     "status": "ok",
     "timestamp": 1633585904782,
     "user": {
      "displayName": "Tanishq Chauhan",
      "photoUrl": "https://lh3.googleusercontent.com/a-/AOh14GggkDwz2kbsiN3be9s1OYgcBFC5-sc3hTfGRlNnyg=s64",
      "userId": "17101909825884887186"
     },
     "user_tz": -330
    },
    "id": "9lxXkpTN7F0t",
    "outputId": "36d3aad9-d181-4cd6-8848-ba4706ae4682"
   },
   "outputs": [
    {
     "data": {
      "image/png": "[encoded data removed]",
      "text/plain": [
       "<Figure size 432x288 with 1 Axes>"
      ]
     },
     "metadata": {
      "needs_background": "light"
     },
     "output_type": "display_data"
    }
   ],
   "source": [
    "plt.figure()\n",
    "plt.title(\"mean-variance-approach modified by entropy\")\n",
    "plt.scatter(all_risk,all_returns,marker=\"o\",alpha=0.2,color='b',label=\"simulation\")\n",
    "plt.scatter(np.sqrt(portfolio_variance),portfolio_return,marker=\"x\",color=\"r\",label=\"REPO\")\n",
    "plt.xlabel(\"risk(sigma)\")\n",
    "plt.ylabel(\"return\")\n",
    "plt.legend()\n",
    "plt.grid()"
   ]
  },
  {
   "cell_type": "code",
   "execution_count": 3,
   "metadata": {
    "colab": {
     "base_uri": "https://localhost:8080/",
     "height": 295
    },
    "executionInfo": {
     "elapsed": 10,
     "status": "ok",
     "timestamp": 1633585904783,
     "user": {
      "displayName": "Tanishq Chauhan",
      "photoUrl": "https://lh3.googleusercontent.com/a-/AOh14GggkDwz2kbsiN3be9s1OYgcBFC5-sc3hTfGRlNnyg=s64",
      "userId": "17101909825884887186"
     },
     "user_tz": -330
    },
    "id": "l-bq55Zx7IH7",
    "outputId": "b158c424-6d12-4879-b96c-641b299ac6e3"
   },
   "outputs": [
    {
     "data": {
      "image/png": "[encoded data removed]",
      "text/plain": [
       "<Figure size 432x288 with 1 Axes>"
      ]
     },
     "metadata": {
      "needs_background": "light"
     },
     "output_type": "display_data"
    }
   ],
   "source": [
    "plt.figure()\n",
    "plt.title(\"entropy/return\")\n",
    "plt.scatter(all_returns,all_entropy,color=\"b\",alpha=0.2)\n",
    "plt.scatter(portfolio_return,portfolio_entropy,color=\"r\",label=\"max_entropy\",marker='x')\n",
    "plt.xlabel(\"return\")\n",
    "plt.ylabel(\"entropy\")\n",
    "plt.grid()\n",
    "plt.legend()\n",
    "plt.show()"
   ]
  }
 ],
 "metadata": {
  "colab": {
   "authorship_tag": "ABX9TyP/qJvUb7jpAp3zcfg7075S",
   "collapsed_sections": [],
   "name": "Maximum_Entropy.ipynb",
   "provenance": []
  },
  "kernelspec": {
   "display_name": "Python 3 (ipykernel)",
   "language": "python",
   "name": "python3"
  },
  "language_info": {
   "codemirror_mode": {
    "name": "ipython",
    "version": 3
   },
   "file_extension": ".py",
   "mimetype": "text/x-python",
   "name": "python",
   "nbconvert_exporter": "python",
   "pygments_lexer": "ipython3",
   "version": "3.9.10"
  }
 },
 "nbformat": 4,
 "nbformat_minor": 1
}
