{
 "cells": [
  {
   "cell_type": "code",
   "execution_count": 1,
   "metadata": {
    "id": "q5MOOM8B9Z6m"
   },
   "outputs": [
    {
     "name": "stdout",
     "output_type": "stream",
     "text": [
      "Requirement already satisfied: PyPortfolioOpt in /usr/local/Cellar/jupyterlab/3.3.0/libexec/lib/python3.9/site-packages (1.5.1)\n",
      "Requirement already satisfied: scipy<2.0,>=1.3 in /usr/local/Cellar/jupyterlab/3.3.0/libexec/lib/python3.9/site-packages (from PyPortfolioOpt) (1.8.0)\n",
      "Requirement already satisfied: numpy<2.0,>=1.12 in /usr/local/lib/python3.9/site-packages (from PyPortfolioOpt) (1.22.3)\n",
      "Requirement already satisfied: cvxpy<2.0.0,>=1.1.10 in /usr/local/Cellar/jupyterlab/3.3.0/libexec/lib/python3.9/site-packages (from PyPortfolioOpt) (1.2.0)\n",
      "Requirement already satisfied: pandas>=0.19 in /usr/local/Cellar/jupyterlab/3.3.0/libexec/lib/python3.9/site-packages (from PyPortfolioOpt) (1.4.1)\n",
      "Requirement already satisfied: osqp>=0.4.1 in /usr/local/Cellar/jupyterlab/3.3.0/libexec/lib/python3.9/site-packages (from cvxpy<2.0.0,>=1.1.10->PyPortfolioOpt) (0.6.2.post5)\n",
      "Requirement already satisfied: scs>=1.1.6 in /usr/local/Cellar/jupyterlab/3.3.0/libexec/lib/python3.9/site-packages (from cvxpy<2.0.0,>=1.1.10->PyPortfolioOpt) (3.2.0)\n",
      "Requirement already satisfied: ecos>=2 in /usr/local/Cellar/jupyterlab/3.3.0/libexec/lib/python3.9/site-packages (from cvxpy<2.0.0,>=1.1.10->PyPortfolioOpt) (2.0.10)\n",
      "Requirement already satisfied: pytz>=2020.1 in /usr/local/Cellar/jupyterlab/3.3.0/libexec/lib/python3.9/site-packages (from pandas>=0.19->PyPortfolioOpt) (2021.3)\n",
      "Requirement already satisfied: python-dateutil>=2.8.1 in /usr/local/Cellar/jupyterlab/3.3.0/libexec/lib/python3.9/site-packages (from pandas>=0.19->PyPortfolioOpt) (2.8.2)\n",
      "Requirement already satisfied: qdldl in /usr/local/Cellar/jupyterlab/3.3.0/libexec/lib/python3.9/site-packages (from osqp>=0.4.1->cvxpy<2.0.0,>=1.1.10->PyPortfolioOpt) (0.1.5.post0)\n",
      "Requirement already satisfied: six>=1.5 in /usr/local/Cellar/six/1.16.0_2/lib/python3.9/site-packages (from python-dateutil>=2.8.1->pandas>=0.19->PyPortfolioOpt) (1.16.0)\n",
      "\u001b[33mWARNING: You are using pip version 21.3.1; however, version 22.0.4 is available.\n",
      "You should consider upgrading via the '/usr/local/Cellar/jupyterlab/3.3.0/libexec/bin/python3.9 -m pip install --upgrade pip' command.\u001b[0m\n",
      "Note: you may need to restart the kernel to use updated packages.\n"
     ]
    }
   ],
   "source": [
    "pip install PyPortfolioOpt"
   ]
  },
  {
   "cell_type": "code",
   "execution_count": 2,
   "metadata": {
    "id": "j-1Wuvjq9ajc"
   },
   "outputs": [
    {
     "name": "stdout",
     "output_type": "stream",
     "text": [
      "Requirement already satisfied: yfinance in /usr/local/Cellar/jupyterlab/3.3.0/libexec/lib/python3.9/site-packages (0.1.70)\n",
      "Requirement already satisfied: pandas>=0.24.0 in /usr/local/Cellar/jupyterlab/3.3.0/libexec/lib/python3.9/site-packages (from yfinance) (1.4.1)\n",
      "Requirement already satisfied: lxml>=4.5.1 in /usr/local/Cellar/jupyterlab/3.3.0/libexec/lib/python3.9/site-packages (from yfinance) (4.8.0)\n",
      "Requirement already satisfied: multitasking>=0.0.7 in /usr/local/Cellar/jupyterlab/3.3.0/libexec/lib/python3.9/site-packages (from yfinance) (0.0.10)\n",
      "Requirement already satisfied: numpy>=1.15 in /usr/local/lib/python3.9/site-packages (from yfinance) (1.22.3)\n",
      "Requirement already satisfied: requests>=2.26 in /usr/local/Cellar/jupyterlab/3.3.0/libexec/lib/python3.9/site-packages (from yfinance) (2.27.1)\n",
      "Requirement already satisfied: pytz>=2020.1 in /usr/local/Cellar/jupyterlab/3.3.0/libexec/lib/python3.9/site-packages (from pandas>=0.24.0->yfinance) (2021.3)\n",
      "Requirement already satisfied: python-dateutil>=2.8.1 in /usr/local/Cellar/jupyterlab/3.3.0/libexec/lib/python3.9/site-packages (from pandas>=0.24.0->yfinance) (2.8.2)\n",
      "Requirement already satisfied: urllib3<1.27,>=1.21.1 in /usr/local/Cellar/jupyterlab/3.3.0/libexec/lib/python3.9/site-packages (from requests>=2.26->yfinance) (1.26.8)\n",
      "Requirement already satisfied: certifi>=2017.4.17 in /usr/local/Cellar/jupyterlab/3.3.0/libexec/lib/python3.9/site-packages (from requests>=2.26->yfinance) (2021.10.8)\n",
      "Requirement already satisfied: charset_normalizer~=2.0.0 in /usr/local/Cellar/jupyterlab/3.3.0/libexec/lib/python3.9/site-packages (from requests>=2.26->yfinance) (2.0.12)\n",
      "Requirement already satisfied: idna<4,>=2.5 in /usr/local/Cellar/jupyterlab/3.3.0/libexec/lib/python3.9/site-packages (from requests>=2.26->yfinance) (3.3)\n",
      "Requirement already satisfied: six>=1.5 in /usr/local/Cellar/six/1.16.0_2/lib/python3.9/site-packages (from python-dateutil>=2.8.1->pandas>=0.24.0->yfinance) (1.16.0)\n",
      "\u001b[33mWARNING: You are using pip version 21.3.1; however, version 22.0.4 is available.\n",
      "You should consider upgrading via the '/usr/local/Cellar/jupyterlab/3.3.0/libexec/bin/python3.9 -m pip install --upgrade pip' command.\u001b[0m\n",
      "Note: you may need to restart the kernel to use updated packages.\n"
     ]
    }
   ],
   "source": [
    "pip install yfinance"
   ]
  },
  {
   "cell_type": "code",
   "execution_count": 3,
   "metadata": {
    "id": "qR6KYsey9asG"
   },
   "outputs": [
    {
     "name": "stdout",
     "output_type": "stream",
     "text": [
      "Requirement already satisfied: pulp in /usr/local/Cellar/jupyterlab/3.3.0/libexec/lib/python3.9/site-packages (2.6.0)\n",
      "\u001b[33mWARNING: You are using pip version 21.3.1; however, version 22.0.4 is available.\n",
      "You should consider upgrading via the '/usr/local/Cellar/jupyterlab/3.3.0/libexec/bin/python3.9 -m pip install --upgrade pip' command.\u001b[0m\n",
      "Note: you may need to restart the kernel to use updated packages.\n"
     ]
    }
   ],
   "source": [
    "pip install pulp"
   ]
  },
  {
   "cell_type": "code",
   "execution_count": 4,
   "metadata": {
    "id": "XL4NjzYW9awm"
   },
   "outputs": [
    {
     "name": "stdout",
     "output_type": "stream",
     "text": [
      "Requirement already satisfied: quandl in /usr/local/Cellar/jupyterlab/3.3.0/libexec/lib/python3.9/site-packages (3.7.0)\n",
      "Requirement already satisfied: numpy>=1.8 in /usr/local/lib/python3.9/site-packages (from quandl) (1.22.3)\n",
      "Requirement already satisfied: inflection>=0.3.1 in /usr/local/Cellar/jupyterlab/3.3.0/libexec/lib/python3.9/site-packages (from quandl) (0.5.1)\n",
      "Requirement already satisfied: requests>=2.7.0 in /usr/local/Cellar/jupyterlab/3.3.0/libexec/lib/python3.9/site-packages (from quandl) (2.27.1)\n",
      "Requirement already satisfied: six in /usr/local/Cellar/six/1.16.0_2/lib/python3.9/site-packages (from quandl) (1.16.0)\n",
      "Requirement already satisfied: more-itertools in /usr/local/Cellar/jupyterlab/3.3.0/libexec/lib/python3.9/site-packages (from quandl) (8.12.0)\n",
      "Requirement already satisfied: pandas>=0.14 in /usr/local/Cellar/jupyterlab/3.3.0/libexec/lib/python3.9/site-packages (from quandl) (1.4.1)\n",
      "Requirement already satisfied: python-dateutil in /usr/local/Cellar/jupyterlab/3.3.0/libexec/lib/python3.9/site-packages (from quandl) (2.8.2)\n",
      "Requirement already satisfied: pytz>=2020.1 in /usr/local/Cellar/jupyterlab/3.3.0/libexec/lib/python3.9/site-packages (from pandas>=0.14->quandl) (2021.3)\n",
      "Requirement already satisfied: urllib3<1.27,>=1.21.1 in /usr/local/Cellar/jupyterlab/3.3.0/libexec/lib/python3.9/site-packages (from requests>=2.7.0->quandl) (1.26.8)\n",
      "Requirement already satisfied: certifi>=2017.4.17 in /usr/local/Cellar/jupyterlab/3.3.0/libexec/lib/python3.9/site-packages (from requests>=2.7.0->quandl) (2021.10.8)\n",
      "Requirement already satisfied: charset_normalizer~=2.0.0 in /usr/local/Cellar/jupyterlab/3.3.0/libexec/lib/python3.9/site-packages (from requests>=2.7.0->quandl) (2.0.12)\n",
      "Requirement already satisfied: idna<4,>=2.5 in /usr/local/Cellar/jupyterlab/3.3.0/libexec/lib/python3.9/site-packages (from requests>=2.7.0->quandl) (3.3)\n",
      "\u001b[33mWARNING: You are using pip version 21.3.1; however, version 22.0.4 is available.\n",
      "You should consider upgrading via the '/usr/local/Cellar/jupyterlab/3.3.0/libexec/bin/python3.9 -m pip install --upgrade pip' command.\u001b[0m\n",
      "Note: you may need to restart the kernel to use updated packages.\n"
     ]
    }
   ],
   "source": [
    "pip install quandl"
   ]
  },
  {
   "cell_type": "code",
   "execution_count": 21,
   "metadata": {
    "id": "5O2nBkyJrMu7"
   },
   "outputs": [],
   "source": [
    "#Hierarchical Risk Parity (Lopez de Prado 2016)\n",
    "\n",
    "import pandas as pd\n",
    "import numpy as np\n",
    "from scipy.cluster.hierarchy import dendrogram, linkage\n",
    "from matplotlib import pyplot as plt\n",
    "import matplotlib"
   ]
  },
  {
   "cell_type": "code",
   "execution_count": 22,
   "metadata": {
    "colab": {
     "base_uri": "https://localhost:8080/",
     "height": 238
    },
    "executionInfo": {
     "elapsed": 43,
     "status": "ok",
     "timestamp": 1633585901472,
     "user": {
      "displayName": "Tanishq Chauhan",
      "photoUrl": "https://lh3.googleusercontent.com/a-/AOh14GggkDwz2kbsiN3be9s1OYgcBFC5-sc3hTfGRlNnyg=s64",
      "userId": "17101909825884887186"
     },
     "user_tz": -330
    },
    "id": "QWOxFUwTriZI",
    "outputId": "609a9c87-17db-4a72-e438-264598bd06a4"
   },
   "outputs": [
    {
     "data": {
      "text/html": [
       "<div>\n",
       "<style scoped>\n",
       "    .dataframe tbody tr th:only-of-type {\n",
       "        vertical-align: middle;\n",
       "    }\n",
       "\n",
       "    .dataframe tbody tr th {\n",
       "        vertical-align: top;\n",
       "    }\n",
       "\n",
       "    .dataframe thead th {\n",
       "        text-align: right;\n",
       "    }\n",
       "</style>\n",
       "<table border=\"1\" class=\"dataframe\">\n",
       "  <thead>\n",
       "    <tr style=\"text-align: right;\">\n",
       "      <th></th>\n",
       "      <th>DAI-USD</th>\n",
       "      <th>BUSD-USD</th>\n",
       "      <th>TUSD-USD</th>\n",
       "      <th>USDC-USD</th>\n",
       "      <th>USDT-USD</th>\n",
       "    </tr>\n",
       "    <tr>\n",
       "      <th>Date</th>\n",
       "      <th></th>\n",
       "      <th></th>\n",
       "      <th></th>\n",
       "      <th></th>\n",
       "      <th></th>\n",
       "    </tr>\n",
       "  </thead>\n",
       "  <tbody>\n",
       "    <tr>\n",
       "      <th>2019-11-22</th>\n",
       "      <td>NaN</td>\n",
       "      <td>NaN</td>\n",
       "      <td>NaN</td>\n",
       "      <td>NaN</td>\n",
       "      <td>NaN</td>\n",
       "    </tr>\n",
       "    <tr>\n",
       "      <th>2019-11-23</th>\n",
       "      <td>0.023861</td>\n",
       "      <td>0.009837</td>\n",
       "      <td>0.009095</td>\n",
       "      <td>0.010484</td>\n",
       "      <td>0.010054</td>\n",
       "    </tr>\n",
       "    <tr>\n",
       "      <th>2019-11-24</th>\n",
       "      <td>-0.013788</td>\n",
       "      <td>0.007578</td>\n",
       "      <td>0.006457</td>\n",
       "      <td>-0.002832</td>\n",
       "      <td>0.004332</td>\n",
       "    </tr>\n",
       "    <tr>\n",
       "      <th>2019-11-25</th>\n",
       "      <td>0.004740</td>\n",
       "      <td>-0.016237</td>\n",
       "      <td>-0.013968</td>\n",
       "      <td>-0.008411</td>\n",
       "      <td>-0.014157</td>\n",
       "    </tr>\n",
       "    <tr>\n",
       "      <th>2019-11-26</th>\n",
       "      <td>-0.000919</td>\n",
       "      <td>0.006695</td>\n",
       "      <td>0.005833</td>\n",
       "      <td>0.007539</td>\n",
       "      <td>0.006638</td>\n",
       "    </tr>\n",
       "  </tbody>\n",
       "</table>\n",
       "</div>"
      ],
      "text/plain": [
       "             DAI-USD  BUSD-USD  TUSD-USD  USDC-USD  USDT-USD\n",
       "Date                                                        \n",
       "2019-11-22       NaN       NaN       NaN       NaN       NaN\n",
       "2019-11-23  0.023861  0.009837  0.009095  0.010484  0.010054\n",
       "2019-11-24 -0.013788  0.007578  0.006457 -0.002832  0.004332\n",
       "2019-11-25  0.004740 -0.016237 -0.013968 -0.008411 -0.014157\n",
       "2019-11-26 -0.000919  0.006695  0.005833  0.007539  0.006638"
      ]
     },
     "execution_count": 22,
     "metadata": {},
     "output_type": "execute_result"
    }
   ],
   "source": [
    "df= pd.read_csv(\"input_data.csv\")\n",
    "df.Date = pd.to_datetime(df.Date, dayfirst = True)\n",
    "df.set_index(\"Date\", inplace = True)\n",
    "returns=df.pct_change()\n",
    "returns.head()"
   ]
  },
  {
   "cell_type": "code",
   "execution_count": 23,
   "metadata": {
    "colab": {
     "base_uri": "https://localhost:8080/"
    },
    "executionInfo": {
     "elapsed": 43,
     "status": "ok",
     "timestamp": 1633585901473,
     "user": {
      "displayName": "Tanishq Chauhan",
      "photoUrl": "https://lh3.googleusercontent.com/a-/AOh14GggkDwz2kbsiN3be9s1OYgcBFC5-sc3hTfGRlNnyg=s64",
      "userId": "17101909825884887186"
     },
     "user_tz": -330
    },
    "id": "TijCe3ewrnkQ",
    "outputId": "8bc61095-3c80-43d6-857f-d663c8933e37"
   },
   "outputs": [
    {
     "data": {
      "text/plain": [
       "Index(['DAI-USD', 'BUSD-USD', 'TUSD-USD', 'USDC-USD', 'USDT-USD'], dtype='object')"
      ]
     },
     "execution_count": 23,
     "metadata": {},
     "output_type": "execute_result"
    }
   ],
   "source": [
    "returns.columns"
   ]
  },
  {
   "cell_type": "code",
   "execution_count": 24,
   "metadata": {
    "id": "5RqXxmu4a3A0"
   },
   "outputs": [],
   "source": [
    "# correlation matrix\n",
    "corr_matrix = returns.corr()\n",
    "# distance matrix\n",
    "dist_corr = np.sqrt(0.5*(1-corr_matrix))"
   ]
  },
  {
   "cell_type": "code",
   "execution_count": 25,
   "metadata": {
    "id": "-B2tl6jQrS3Y"
   },
   "outputs": [],
   "source": [
    "# correlation matrix\n",
    "# corr replaced by corr_matrix = returns.corr() \n",
    "# distance matrix\n",
    "# d_corr replaced by dist_corr = np.sqrt(0.5*(1-corr))"
   ]
  },
  {
   "cell_type": "code",
   "execution_count": 26,
   "metadata": {
    "colab": {
     "base_uri": "https://localhost:8080/",
     "height": 611
    },
    "executionInfo": {
     "elapsed": 1057,
     "status": "ok",
     "timestamp": 1633585902492,
     "user": {
      "displayName": "Tanishq Chauhan",
      "photoUrl": "https://lh3.googleusercontent.com/a-/AOh14GggkDwz2kbsiN3be9s1OYgcBFC5-sc3hTfGRlNnyg=s64",
      "userId": "17101909825884887186"
     },
     "user_tz": -330
    },
    "id": "YXyyCm64sHpu",
    "outputId": "e0c2dbee-bd0f-448d-d2f9-5b6d63c2f883"
   },
   "outputs": [
    {
     "name": "stderr",
     "output_type": "stream",
     "text": [
      "/var/folders/dh/cjyd2n_s6jv3g6srpjrvn0hw0000gn/T/ipykernel_19051/1266265395.py:2: ClusterWarning: scipy.cluster: The symmetric non-negative hollow observation matrix looks suspiciously like an uncondensed distance matrix\n",
      "  linkage = linkage(dist_corr, 'single')\n"
     ]
    },
    {
     "data": {
      "image/png": "[encoded data removed]",
      "text/plain": [
       "<Figure size 1800x720 with 1 Axes>"
      ]
     },
     "metadata": {
      "needs_background": "light"
     },
     "output_type": "display_data"
    }
   ],
   "source": [
    "# Performing hierarchical/agglomerative clustering.\n",
    "linkage = linkage(dist_corr, 'single')\n",
    "Ze = pd.DataFrame(linkage)\n",
    "\n",
    "fig = plt.figure(figsize=(25, 10))\n",
    "dendogram = dendrogram(Ze)\n",
    "# plt.show()"
   ]
  },
  {
   "cell_type": "code",
   "execution_count": 27,
   "metadata": {
    "colab": {
     "base_uri": "https://localhost:8080/",
     "height": 175
    },
    "executionInfo": {
     "elapsed": 22,
     "status": "ok",
     "timestamp": 1633585902492,
     "user": {
      "displayName": "Tanishq Chauhan",
      "photoUrl": "https://lh3.googleusercontent.com/a-/AOh14GggkDwz2kbsiN3be9s1OYgcBFC5-sc3hTfGRlNnyg=s64",
      "userId": "17101909825884887186"
     },
     "user_tz": -330
    },
    "id": "0CKDi-_KsPHj",
    "outputId": "2334df13-c027-40a5-b644-5a94b980e70a"
   },
   "outputs": [
    {
     "data": {
      "text/html": [
       "<div>\n",
       "<style scoped>\n",
       "    .dataframe tbody tr th:only-of-type {\n",
       "        vertical-align: middle;\n",
       "    }\n",
       "\n",
       "    .dataframe tbody tr th {\n",
       "        vertical-align: top;\n",
       "    }\n",
       "\n",
       "    .dataframe thead th {\n",
       "        text-align: right;\n",
       "    }\n",
       "</style>\n",
       "<table border=\"1\" class=\"dataframe\">\n",
       "  <thead>\n",
       "    <tr style=\"text-align: right;\">\n",
       "      <th></th>\n",
       "      <th>0</th>\n",
       "      <th>1</th>\n",
       "      <th>2</th>\n",
       "      <th>3</th>\n",
       "    </tr>\n",
       "  </thead>\n",
       "  <tbody>\n",
       "    <tr>\n",
       "      <th>0</th>\n",
       "      <td>1.0</td>\n",
       "      <td>2.0</td>\n",
       "      <td>0.235143</td>\n",
       "      <td>2.0</td>\n",
       "    </tr>\n",
       "    <tr>\n",
       "      <th>1</th>\n",
       "      <td>4.0</td>\n",
       "      <td>5.0</td>\n",
       "      <td>0.282363</td>\n",
       "      <td>3.0</td>\n",
       "    </tr>\n",
       "    <tr>\n",
       "      <th>2</th>\n",
       "      <td>3.0</td>\n",
       "      <td>6.0</td>\n",
       "      <td>0.500435</td>\n",
       "      <td>4.0</td>\n",
       "    </tr>\n",
       "    <tr>\n",
       "      <th>3</th>\n",
       "      <td>0.0</td>\n",
       "      <td>7.0</td>\n",
       "      <td>1.094215</td>\n",
       "      <td>5.0</td>\n",
       "    </tr>\n",
       "  </tbody>\n",
       "</table>\n",
       "</div>"
      ],
      "text/plain": [
       "     0    1         2    3\n",
       "0  1.0  2.0  0.235143  2.0\n",
       "1  4.0  5.0  0.282363  3.0\n",
       "2  3.0  6.0  0.500435  4.0\n",
       "3  0.0  7.0  1.094215  5.0"
      ]
     },
     "execution_count": 27,
     "metadata": {},
     "output_type": "execute_result"
    }
   ],
   "source": [
    "Ze"
   ]
  },
  {
   "cell_type": "code",
   "execution_count": 28,
   "metadata": {
    "id": "1tiVd6UotZid"
   },
   "outputs": [],
   "source": [
    "def quasi_diagonalization(linkage):\n",
    "    \n",
    "    # The clustered items are sorted based on their distance\n",
    "    \n",
    "    linkage = linkage.astype(int)\n",
    "    \n",
    "    # The last quadriplets first and second consituent items are taken\n",
    "    sort_last = pd.Series([linkage[-1,0], linkage[-1,1]]) \n",
    "    \n",
    "    # The third element of the constituent set represents the total items\n",
    "    num_items = linkage[-1, 3]\n",
    "    \n",
    "  \n",
    "    # if the max_times is less than or equal to the maximum of sort_last\n",
    "    while sort_last.max() >= num_items:\n",
    "        # we assign a 24 by 24 sort_last index \n",
    "        sort_last.index = range(0, sort_last.shape[0]*2, 2) \n",
    "        # the odd numbers are indexed\n",
    "        \n",
    "        df0 = sort_last[sort_last >= num_items] # finding clusters\n",
    "        \n",
    "      \n",
    "        # the cluster and even index are contained in df0\n",
    "        i = df0.index\n",
    "        j = df0.values - num_items  \n",
    "        \n",
    "        sort_last[i] = linkage[j,0] # item#1\n",
    "        \n",
    "        df0  = pd.Series(linkage[j, 1], index=i+1)\n",
    "        \n",
    "        sort_last = sort_last.append(df0)\n",
    "        sort_last = sort_last.sort_index()\n",
    "        \n",
    "        sort_last.index = range(sort_last.shape[0])\n",
    "        \n",
    "    \n",
    "    return sort_last.tolist()"
   ]
  },
  {
   "cell_type": "code",
   "execution_count": 29,
   "metadata": {
    "colab": {
     "base_uri": "https://localhost:8080/"
    },
    "executionInfo": {
     "elapsed": 22,
     "status": "ok",
     "timestamp": 1633585902493,
     "user": {
      "displayName": "Tanishq Chauhan",
      "photoUrl": "https://lh3.googleusercontent.com/a-/AOh14GggkDwz2kbsiN3be9s1OYgcBFC5-sc3hTfGRlNnyg=s64",
      "userId": "17101909825884887186"
     },
     "user_tz": -330
    },
    "id": "MbOgDRzHtbJB",
    "outputId": "51d58281-7710-4666-9734-c4bcad5831a7"
   },
   "outputs": [
    {
     "name": "stderr",
     "output_type": "stream",
     "text": [
      "/var/folders/dh/cjyd2n_s6jv3g6srpjrvn0hw0000gn/T/ipykernel_19051/997907776.py:31: FutureWarning: The series.append method is deprecated and will be removed from pandas in a future version. Use pandas.concat instead.\n",
      "  sort_last = sort_last.append(df0)\n",
      "/var/folders/dh/cjyd2n_s6jv3g6srpjrvn0hw0000gn/T/ipykernel_19051/997907776.py:31: FutureWarning: The series.append method is deprecated and will be removed from pandas in a future version. Use pandas.concat instead.\n",
      "  sort_last = sort_last.append(df0)\n",
      "/var/folders/dh/cjyd2n_s6jv3g6srpjrvn0hw0000gn/T/ipykernel_19051/997907776.py:31: FutureWarning: The series.append method is deprecated and will be removed from pandas in a future version. Use pandas.concat instead.\n",
      "  sort_last = sort_last.append(df0)\n"
     ]
    },
    {
     "data": {
      "text/plain": [
       "[0, 3, 4, 1, 2]"
      ]
     },
     "execution_count": 29,
     "metadata": {},
     "output_type": "execute_result"
    }
   ],
   "source": [
    "sort_last = quasi_diagonalization(linkage)\n",
    "sort_last"
   ]
  },
  {
   "cell_type": "code",
   "execution_count": 30,
   "metadata": {
    "id": "GVk83qGrfDoQ"
   },
   "outputs": [],
   "source": [
    "def cluster_variable(cov, c_items):\n",
    "    cov_ = cov.iloc[c_items, c_items] # slice of matrix\n",
    "    # now we calculate the inverse variance portfolio\n",
    "    ivp = 1./np.diag(cov_)\n",
    "    ivp/=ivp.sum()\n",
    "    w_ = ivp.reshape(-1,1)\n",
    "    c_var = np.dot(np.dot(w_.T, cov_), w_)[0,0]\n",
    "    return c_var\n",
    "\n",
    "def recursive_bisection(cov, sort_last):\n",
    "    # computing Hierarchical Risk Parity allocation\n",
    "    # intializing weights of one\n",
    "    w = pd.Series(1, index=sort_last)\n",
    "    \n",
    "    # intializing all items in a single cluster\n",
    "    c_items = [sort_last]\n",
    "    while len(c_items) > 0:\n",
    "        # recursive bisection\n",
    "        \"\"\"\n",
    "        [[3, 6, 0, 9, 2, 4, 13], [5, 12, 8, 10, 7, 1, 11]]\n",
    "        [[3, 6, 0], [9, 2, 4, 13], [5, 12, 8], [10, 7, 1, 11]]\n",
    "        [[3], [6, 0], [9, 2], [4, 13], [5], [12, 8], [10, 7], [1, 11]]\n",
    "        [[6], [0], [9], [2], [4], [13], [12], [8], [10], [7], [1], [11]]\n",
    "        \"\"\"\n",
    "        c_items = [i[int(j):int(k)] for i in c_items for j,k in \n",
    "                   ((0,len(i)/2),(len(i)/2,len(i))) if len(i)>1]\n",
    "        \n",
    "        # now it has 2\n",
    "        for i in range(0, len(c_items), 2):\n",
    "            \n",
    "            c_items0 = c_items[i] # first cluster\n",
    "            c_items1 = c_items[i+1] # second cluster\n",
    "            \n",
    "            c_var0 = cluster_variable(cov, c_items0)\n",
    "            c_var1 = cluster_variable(cov, c_items1)\n",
    "            \n",
    "            alpha = 1 - c_var0/(c_var0+c_var1)\n",
    "            \n",
    "            w[c_items0] *= alpha\n",
    "            w[c_items1] *=1-alpha\n",
    "    return w"
   ]
  },
  {
   "cell_type": "code",
   "execution_count": 31,
   "metadata": {
    "id": "_H0L8y3htgrm"
   },
   "outputs": [],
   "source": [
    "covariance = returns.cov()\n",
    "weights = recursive_bisection(covariance, sort_last)"
   ]
  },
  {
   "cell_type": "code",
   "execution_count": 32,
   "metadata": {
    "id": "L_6n_ia9tjzQ"
   },
   "outputs": [],
   "source": [
    "new_index = [returns.columns[i] for i in weights.index]\n",
    "weights.index = new_index"
   ]
  },
  {
   "cell_type": "code",
   "execution_count": 33,
   "metadata": {
    "colab": {
     "base_uri": "https://localhost:8080/"
    },
    "executionInfo": {
     "elapsed": 17,
     "status": "ok",
     "timestamp": 1633585902495,
     "user": {
      "displayName": "Tanishq Chauhan",
      "photoUrl": "https://lh3.googleusercontent.com/a-/AOh14GggkDwz2kbsiN3be9s1OYgcBFC5-sc3hTfGRlNnyg=s64",
      "userId": "17101909825884887186"
     },
     "user_tz": -330
    },
    "id": "FcQNcHLgtlfs",
    "outputId": "3e81c0e0-cc21-46a0-bece-1c8278b79b83"
   },
   "outputs": [
    {
     "data": {
      "text/plain": [
       "DAI-USD     0.086206\n",
       "USDC-USD    0.403979\n",
       "USDT-USD    0.247499\n",
       "BUSD-USD    0.119251\n",
       "TUSD-USD    0.143065\n",
       "dtype: float64"
      ]
     },
     "execution_count": 33,
     "metadata": {},
     "output_type": "execute_result"
    }
   ],
   "source": [
    "weights"
   ]
  }
 ],
 "metadata": {
  "colab": {
   "authorship_tag": "ABX9TyPw+JCD5GzxvwRN1mI7z0JK",
   "collapsed_sections": [],
   "name": "Hierarchical_Risk_Parity.ipynb",
   "provenance": []
  },
  "kernelspec": {
   "display_name": "Python 3 (ipykernel)",
   "language": "python",
   "name": "python3"
  },
  "language_info": {
   "codemirror_mode": {
    "name": "ipython",
    "version": 3
   },
   "file_extension": ".py",
   "mimetype": "text/x-python",
   "name": "python",
   "nbconvert_exporter": "python",
   "pygments_lexer": "ipython3",
   "version": "3.9.10"
  }
 },
 "nbformat": 4,
 "nbformat_minor": 1
}
